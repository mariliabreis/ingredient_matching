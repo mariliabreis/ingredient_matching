{
 "cells": [
  {
   "cell_type": "code",
   "execution_count": 3,
   "id": "rubber-therapy",
   "metadata": {},
   "outputs": [],
   "source": [
    "import pandas as pd\n",
    "import ast\n",
    "from sklearn.feature_extraction.text import CountVectorizer\n",
    "from scipy import sparse"
   ]
  },
  {
   "cell_type": "code",
   "execution_count": 4,
   "id": "significant-singing",
   "metadata": {},
   "outputs": [],
   "source": [
    "recipes_clean = pd.read_csv('/Users/giancarlotissot/code/mariliabreis/ingredient_matching/raw_data/recipes.csv')\n",
    "ingredients_keys = pd.read_csv('/Users/giancarlotissot/code/mariliabreis/ingredient_matching/raw_data/ingredient_keys.csv')\n",
    "ingredients_keys.drop(columns='Unnamed: 0',inplace=True)"
   ]
  },
  {
   "cell_type": "code",
   "execution_count": 5,
   "id": "comfortable-conversion",
   "metadata": {},
   "outputs": [],
   "source": [
    "df_pickle = pd.read_pickle('/Users/giancarlotissot/code/mariliabreis/ingredient_matching/raw_data/recipe_list/ingr_map.pkl')\n",
    "ingredients_clean = df_pickle[['id','replaced','count','raw_ingr']]\n",
    "# ingredients_clean.head(10)"
   ]
  },
  {
   "cell_type": "code",
   "execution_count": 6,
   "id": "alone-italy",
   "metadata": {},
   "outputs": [],
   "source": [
    "new_df = recipes_clean[['id','ingredient_ids']].copy()\n",
    "new_df = pd.DataFrame(new_df)"
   ]
  },
  {
   "cell_type": "code",
   "execution_count": 7,
   "id": "designing-carolina",
   "metadata": {},
   "outputs": [],
   "source": [
    "unique_ingredients_df = ingredients_keys.drop_duplicates().copy()\n",
    "list_ingredient_ids = unique_ingredients_df['id'].sort_values()\n",
    "\n",
    "final_df = pd.DataFrame(columns=list_ingredient_ids,index=new_df['id'],data=0)"
   ]
  },
  {
   "cell_type": "code",
   "execution_count": 8,
   "id": "adopted-float",
   "metadata": {},
   "outputs": [
    {
     "name": "stdout",
     "output_type": "stream",
     "text": [
      "CPU times: user 6min 12s, sys: 48.4 s, total: 7min\n",
      "Wall time: 8min 38s\n"
     ]
    }
   ],
   "source": [
    "%%time\n",
    "reduced_df = new_df.head(2000)\n",
    "count =0\n",
    "for id,recipe in new_df[['id','ingredient_ids']].to_numpy():\n",
    "    count+=1\n",
    "    print(f\"looking at id: {count}\",end=\"\\r\")\n",
    "    columns = ast.literal_eval(recipe)\n",
    "    final_df.loc[id,columns] = 1"
   ]
  },
  {
   "cell_type": "code",
   "execution_count": 9,
   "id": "excited-voltage",
   "metadata": {},
   "outputs": [
    {
     "name": "stdout",
     "output_type": "stream",
     "text": [
      "CPU times: user 7 µs, sys: 2 µs, total: 9 µs\n",
      "Wall time: 15.3 µs\n"
     ]
    }
   ],
   "source": [
    "%%time\n",
    "save = False\n",
    "if save == True:\n",
    "    final_df.to_csv(r'/Users/giancarlotissot/code/mariliabreis/ingredient_matching/raw_data/final_df.csv')"
   ]
  },
  {
   "cell_type": "code",
   "execution_count": 10,
   "id": "lasting-photograph",
   "metadata": {},
   "outputs": [],
   "source": [
    "final_sparse = sparse.csr_matrix(final_df.values)"
   ]
  },
  {
   "cell_type": "code",
   "execution_count": 11,
   "id": "corresponding-russia",
   "metadata": {},
   "outputs": [],
   "source": [
    "save = True\n",
    "if save == True:\n",
    "    sparse.save_npz(r'/Users/giancarlotissot/code/mariliabreis/ingredient_matching/raw_data/sparse_final_df.npz',final_sparse)"
   ]
  },
  {
   "cell_type": "code",
   "execution_count": 12,
   "id": "owned-wrist",
   "metadata": {},
   "outputs": [
    {
     "name": "stdout",
     "output_type": "stream",
     "text": [
      "CPU times: user 1.31 s, sys: 2.77 s, total: 4.08 s\n",
      "Wall time: 5.59 s\n"
     ]
    }
   ],
   "source": [
    "%%time\n",
    "### TO DO ###\n",
    "### Use Sparse Matrix\n",
    "from_sparse_df = final_sparse.todense()\n",
    "# type(from_sparse_df)"
   ]
  },
  {
   "cell_type": "code",
   "execution_count": 1,
   "id": "controlled-centre",
   "metadata": {},
   "outputs": [],
   "source": [
    "# pd.DataFrame(from_sparse_df)"
   ]
  },
  {
   "cell_type": "markdown",
   "id": "cognitive-spell",
   "metadata": {},
   "source": [
    "## Input function"
   ]
  },
  {
   "cell_type": "code",
   "execution_count": 23,
   "id": "strategic-recipe",
   "metadata": {},
   "outputs": [],
   "source": [
    "def get_id(ingredient_str):\n",
    "    '''Transforms string input to pre-processed ID'''\n",
    "    ingredient_id = ingredients_clean[ingredients_clean['raw_ingr'] ==ingredient_str]\n",
    "    ingredient_id.reset_index(inplace=True)\n",
    "    return ingredient_id.loc[0,'id']\n",
    "\n",
    "def get_name(ingredient_id):\n",
    "    '''Transforms ID back to pre-processed string'''\n",
    "    ingredient_name = ingredients_clean[ingredients_clean['id'] == ingredient_id]\n",
    "    ingredient_name.reset_index(inplace=True)\n",
    "    return ingredient_name.loc[0,'replaced']"
   ]
  },
  {
   "cell_type": "code",
   "execution_count": 24,
   "id": "spectacular-relationship",
   "metadata": {},
   "outputs": [],
   "source": [
    "def find_match(ingredient_id,num_matches):\n",
    "    '''Returns list of ingredient IDs and count of occurances'''\n",
    "    total = final_df[final_df[ingredient_id]==1].sum()\n",
    "    ids = total.sort_values(ascending=False)\n",
    "    return list(ids.head(num_matches).index)\n",
    "    \n",
    "def list_to_names(ingredient_id_list):\n",
    "    '''Takes in list of ingredient IDs and returns list of names'''\n",
    "    list_ = []\n",
    "    for id in ingredient_id_list:\n",
    "        list_.append(get_name(id))\n",
    "    return list_\n",
    "\n",
    "def output_func(input_ingredient,num_matches=10):\n",
    "    '''Combines other functions into a workflow'''\n",
    "    num_matches += 1\n",
    "    result = get_id(input_ingredient)\n",
    "    ids = find_match(result,num_matches)\n",
    "    names = list_to_names(ids)\n",
    "    names.pop(0)\n",
    "    return names"
   ]
  },
  {
   "cell_type": "code",
   "execution_count": 25,
   "id": "ethical-completion",
   "metadata": {},
   "outputs": [],
   "source": [
    "# [ingredient_id_1]==1 && [ingredient_id_2]==1"
   ]
  },
  {
   "cell_type": "markdown",
   "id": "outer-processing",
   "metadata": {},
   "source": [
    "## Processing Order\n",
    "#get_id -> str to ID\n",
    "#find_match -> Table\n",
    "#list_to_names"
   ]
  },
  {
   "cell_type": "code",
   "execution_count": 17,
   "id": "cooked-asset",
   "metadata": {},
   "outputs": [
    {
     "name": "stdout",
     "output_type": "stream",
     "text": [
      "CPU times: user 4.39 s, sys: 8.54 s, total: 12.9 s\n",
      "Wall time: 18.8 s\n"
     ]
    },
    {
     "data": {
      "text/plain": [
       "['egg',\n",
       " 'butter',\n",
       " 'sugar',\n",
       " 'onion',\n",
       " 'pepper',\n",
       " 'flmy',\n",
       " 'olive oil',\n",
       " 'water',\n",
       " 'garlic clove',\n",
       " 'milk']"
      ]
     },
     "execution_count": 17,
     "metadata": {},
     "output_type": "execute_result"
    }
   ],
   "source": [
    "%%time\n",
    "output_func('salt')"
   ]
  },
  {
   "cell_type": "code",
   "execution_count": null,
   "id": "included-impression",
   "metadata": {},
   "outputs": [],
   "source": []
  }
 ],
 "metadata": {
  "kernelspec": {
   "display_name": "Python 3",
   "language": "python",
   "name": "python3"
  },
  "language_info": {
   "codemirror_mode": {
    "name": "ipython",
    "version": 3
   },
   "file_extension": ".py",
   "mimetype": "text/x-python",
   "name": "python",
   "nbconvert_exporter": "python",
   "pygments_lexer": "ipython3",
   "version": "3.8.6"
  }
 },
 "nbformat": 4,
 "nbformat_minor": 5
}
