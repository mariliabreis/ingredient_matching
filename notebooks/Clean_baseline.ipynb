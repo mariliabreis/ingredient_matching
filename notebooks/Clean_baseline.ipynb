{
 "cells": [
  {
   "cell_type": "markdown",
   "id": "scientific-blink",
   "metadata": {},
   "source": [
    "# Loading Things"
   ]
  },
  {
   "cell_type": "code",
   "execution_count": 5,
   "id": "wooden-intervention",
   "metadata": {},
   "outputs": [],
   "source": [
    "import pandas as pd\n",
    "import scipy.sparse as sparse\n",
    "import numpy as np"
   ]
  },
  {
   "cell_type": "code",
   "execution_count": 6,
   "id": "permanent-heater",
   "metadata": {
    "scrolled": true
   },
   "outputs": [
    {
     "name": "stdout",
     "output_type": "stream",
     "text": [
      "CPU times: user 72.1 ms, sys: 21.1 ms, total: 93.1 ms\n",
      "Wall time: 112 ms\n"
     ]
    }
   ],
   "source": [
    "%%time\n",
    "final_sparse = sparse.load_npz(r'/Users/giancarlotissot/code/mariliabreis/ingredient_matching/raw_data/sparse_final_df.npz')\n",
    "\n",
    "# final_df = pd.DataFrame(from_sparse_df)"
   ]
  },
  {
   "cell_type": "code",
   "execution_count": 7,
   "id": "colored-lebanon",
   "metadata": {},
   "outputs": [
    {
     "name": "stdout",
     "output_type": "stream",
     "text": [
      "CPU times: user 1.28 s, sys: 2.87 s, total: 4.16 s\n",
      "Wall time: 7.42 s\n"
     ]
    }
   ],
   "source": [
    "%%time\n",
    "from_sparse_df = final_sparse.todense()"
   ]
  },
  {
   "cell_type": "markdown",
   "id": "significant-capability",
   "metadata": {},
   "source": [
    "# Actual Code"
   ]
  },
  {
   "cell_type": "code",
   "execution_count": 8,
   "id": "starting-breakdown",
   "metadata": {},
   "outputs": [],
   "source": [
    "df_pickle = pd.read_pickle('/Users/giancarlotissot/code/mariliabreis/ingredient_matching/raw_data/recipe_list/ingr_map.pkl')\n",
    "ingredients_clean = df_pickle[['id','replaced','count','raw_ingr']]"
   ]
  },
  {
   "cell_type": "code",
   "execution_count": 9,
   "id": "guided-yesterday",
   "metadata": {},
   "outputs": [],
   "source": [
    "def get_id(ingredient_str):\n",
    "    # Transforms string input to pre-processed ID\n",
    "    ingredient_id = ingredients_clean[ingredients_clean['raw_ingr'] ==ingredient_str]\n",
    "    ingredient_id.reset_index(inplace=True)\n",
    "    return ingredient_id.loc[0,'id']\n",
    "    \n",
    "def get_name(ingredient_id):\n",
    "    # Transforms ID back to pre-processed string\n",
    "    ingredient_name = ingredients_clean[ingredients_clean['id'] == ingredient_id]\n",
    "    ingredient_name.reset_index(inplace=True)\n",
    "    return ingredient_name.loc[0,'replaced']"
   ]
  },
  {
   "cell_type": "code",
   "execution_count": 10,
   "id": "brief-tract",
   "metadata": {},
   "outputs": [],
   "source": [
    "### Old Version ###\n",
    "# def output_func(input_ingredient,num_matches=10):\n",
    "#     # Combines other functions into a workflow\n",
    "#     num_matches += 1\n",
    "    \n",
    "#     if type(input_ingredient) == list:\n",
    "#         id_input = []\n",
    "#         for ingredient in input_ingredient:\n",
    "#             id_input.append(get_id(ingredient))\n",
    "#     else:\n",
    "#         id_input = get_id(input_ingredient)\n",
    "        \n",
    "#     id_list = find_match(id_input,num_matches)\n",
    "#     names = list_to_names(id_list)\n",
    "    \n",
    "#     names.pop(0)\n",
    "#     return names\n"
   ]
  },
  {
   "cell_type": "code",
   "execution_count": 11,
   "id": "limited-overview",
   "metadata": {},
   "outputs": [
    {
     "data": {
      "text/html": [
       "<div>\n",
       "<style scoped>\n",
       "    .dataframe tbody tr th:only-of-type {\n",
       "        vertical-align: middle;\n",
       "    }\n",
       "\n",
       "    .dataframe tbody tr th {\n",
       "        vertical-align: top;\n",
       "    }\n",
       "\n",
       "    .dataframe thead th {\n",
       "        text-align: right;\n",
       "    }\n",
       "</style>\n",
       "<table border=\"1\" class=\"dataframe\">\n",
       "  <thead>\n",
       "    <tr style=\"text-align: right;\">\n",
       "      <th></th>\n",
       "      <th>id</th>\n",
       "      <th>replaced</th>\n",
       "      <th>count</th>\n",
       "      <th>raw_ingr</th>\n",
       "    </tr>\n",
       "  </thead>\n",
       "  <tbody>\n",
       "    <tr>\n",
       "      <th>0</th>\n",
       "      <td>4308</td>\n",
       "      <td>lettuce</td>\n",
       "      <td>4507</td>\n",
       "      <td>medium heads bibb or red leaf lettuce, washed,...</td>\n",
       "    </tr>\n",
       "    <tr>\n",
       "      <th>1</th>\n",
       "      <td>4308</td>\n",
       "      <td>lettuce</td>\n",
       "      <td>4507</td>\n",
       "      <td>mixed baby lettuces and spring greens</td>\n",
       "    </tr>\n",
       "    <tr>\n",
       "      <th>2</th>\n",
       "      <td>4308</td>\n",
       "      <td>lettuce</td>\n",
       "      <td>4507</td>\n",
       "      <td>romaine lettuce leaf</td>\n",
       "    </tr>\n",
       "    <tr>\n",
       "      <th>3</th>\n",
       "      <td>4308</td>\n",
       "      <td>lettuce</td>\n",
       "      <td>4507</td>\n",
       "      <td>iceberg lettuce leaf</td>\n",
       "    </tr>\n",
       "    <tr>\n",
       "      <th>4</th>\n",
       "      <td>4308</td>\n",
       "      <td>lettuce</td>\n",
       "      <td>4507</td>\n",
       "      <td>red romaine lettuce</td>\n",
       "    </tr>\n",
       "    <tr>\n",
       "      <th>...</th>\n",
       "      <td>...</td>\n",
       "      <td>...</td>\n",
       "      <td>...</td>\n",
       "      <td>...</td>\n",
       "    </tr>\n",
       "    <tr>\n",
       "      <th>11654</th>\n",
       "      <td>6702</td>\n",
       "      <td>soybean</td>\n",
       "      <td>31</td>\n",
       "      <td>soybeans</td>\n",
       "    </tr>\n",
       "    <tr>\n",
       "      <th>11655</th>\n",
       "      <td>3318</td>\n",
       "      <td>goose</td>\n",
       "      <td>8</td>\n",
       "      <td>goose</td>\n",
       "    </tr>\n",
       "    <tr>\n",
       "      <th>11656</th>\n",
       "      <td>47</td>\n",
       "      <td>ajwain</td>\n",
       "      <td>13</td>\n",
       "      <td>ajwain</td>\n",
       "    </tr>\n",
       "    <tr>\n",
       "      <th>11657</th>\n",
       "      <td>750</td>\n",
       "      <td>brinjal</td>\n",
       "      <td>2</td>\n",
       "      <td>brinjals</td>\n",
       "    </tr>\n",
       "    <tr>\n",
       "      <th>11658</th>\n",
       "      <td>4061</td>\n",
       "      <td>khoya</td>\n",
       "      <td>6</td>\n",
       "      <td>khoya</td>\n",
       "    </tr>\n",
       "  </tbody>\n",
       "</table>\n",
       "<p>11659 rows × 4 columns</p>\n",
       "</div>"
      ],
      "text/plain": [
       "         id replaced  count                                           raw_ingr\n",
       "0      4308  lettuce   4507  medium heads bibb or red leaf lettuce, washed,...\n",
       "1      4308  lettuce   4507              mixed baby lettuces and spring greens\n",
       "2      4308  lettuce   4507                               romaine lettuce leaf\n",
       "3      4308  lettuce   4507                               iceberg lettuce leaf\n",
       "4      4308  lettuce   4507                                red romaine lettuce\n",
       "...     ...      ...    ...                                                ...\n",
       "11654  6702  soybean     31                                           soybeans\n",
       "11655  3318    goose      8                                              goose\n",
       "11656    47   ajwain     13                                             ajwain\n",
       "11657   750  brinjal      2                                           brinjals\n",
       "11658  4061    khoya      6                                              khoya\n",
       "\n",
       "[11659 rows x 4 columns]"
      ]
     },
     "execution_count": 11,
     "metadata": {},
     "output_type": "execute_result"
    }
   ],
   "source": [
    "ingredients_clean"
   ]
  },
  {
   "cell_type": "code",
   "execution_count": 47,
   "id": "nonprofit-option",
   "metadata": {},
   "outputs": [],
   "source": [
    "def find_match(id_input,num_matches,min_ingredients):\n",
    "    # Returns list of ingredient IDs and count of occurances\n",
    "    numpy_arr = np.nonzero(from_sparse_df[:,id_input])\n",
    "    indices = (-final_sparse[numpy_arr[0],:].sum(axis=0).A1).argsort()[min_ingredients:num_matches+min_ingredients]\n",
    "    return indices\n",
    "    \n",
    "def list_to_names(ingredient_id_list):\n",
    "    # Takes in list of ingredient IDs and returns list of names\n",
    "    list_ = []\n",
    "    for id in ingredient_id_list:\n",
    "        list_.append(get_name(id))\n",
    "    return list_\n",
    "\n",
    "def be_adventurous(id_input,adventure_criteria):\n",
    "    list_ = []\n",
    "    for id in id_input:\n",
    "        counts = ingredients_clean.loc[ingredients_clean['id']==id]['count'].to_list()\n",
    "#         print('###',type(counts))\n",
    "        list_.append(counts[0])\n",
    "    max_ingredients = round(max(list_) * 0.05)\n",
    "    min_criteria = min([max([max_ingredients, 10]),adventure_criteria])\n",
    "    return min_criteria\n",
    "\n",
    "def output_func(input_ingredient,num_matches=10,adventure=False,adventure_criteria=20):\n",
    "    # Combines other functions into a workflow\n",
    "    num_matches += 1\n",
    "    \n",
    "    if type(input_ingredient) != list:\n",
    "        input_ingredient = [input_ingredient]\n",
    "    id_input = []\n",
    "    for ingredient in input_ingredient:\n",
    "        id_input.append(get_id(ingredient))\n",
    "    min_ingredients = 0\n",
    "    if adventure:\n",
    "        min_ingredients = be_adventurous(id_input,adventure_criteria)\n",
    "    id_list = find_match(id_input,num_matches,min_ingredients)\n",
    "    names = list_to_names(id_list)\n",
    "\n",
    "    return names[len(input_ingredient):]"
   ]
  },
  {
   "cell_type": "code",
   "execution_count": 55,
   "id": "compliant-rouge",
   "metadata": {},
   "outputs": [
    {
     "name": "stdout",
     "output_type": "stream",
     "text": [
      "CPU times: user 90.2 ms, sys: 5.86 ms, total: 96.1 ms\n",
      "Wall time: 117 ms\n"
     ]
    },
    {
     "data": {
      "text/plain": [
       "['parmesan cheese',\n",
       " 'red wine vinegar',\n",
       " 'soy sauce',\n",
       " 'black olife',\n",
       " 'chili powder',\n",
       " 'hamburger bun',\n",
       " 'fresh lemon juice',\n",
       " 'fresh ground black pepper',\n",
       " 'garlic powder',\n",
       " 'butter',\n",
       " 'honey',\n",
       " 'fresh cilantro',\n",
       " 'feta cheese',\n",
       " 'cherry tomato',\n",
       " 'worcestershire sauce',\n",
       " 'cheese',\n",
       " 'red bell pepper',\n",
       " 'pickle',\n",
       " 'ground cumin',\n",
       " 'balsamic vinegar']"
      ]
     },
     "execution_count": 55,
     "metadata": {},
     "output_type": "execute_result"
    }
   ],
   "source": [
    "%%time\n",
    "output_func('lettuce',num_matches=20,adventure=True,adventure_criteria=30)"
   ]
  },
  {
   "cell_type": "code",
   "execution_count": 14,
   "id": "differential-museum",
   "metadata": {},
   "outputs": [
    {
     "name": "stdout",
     "output_type": "stream",
     "text": [
      "CPU times: user 389 ms, sys: 1.01 s, total: 1.4 s\n",
      "Wall time: 2.09 s\n"
     ]
    },
    {
     "data": {
      "text/plain": [
       "['salt',\n",
       " 'tomato',\n",
       " 'olive oil',\n",
       " 'mayonnaise',\n",
       " 'scallion',\n",
       " 'onion',\n",
       " 'garlic clove',\n",
       " 'red onion',\n",
       " 'sugar']"
      ]
     },
     "execution_count": 14,
     "metadata": {},
     "output_type": "execute_result"
    }
   ],
   "source": [
    "%%time\n",
    "output_func(['lettuce', 'cucumber'])"
   ]
  },
  {
   "cell_type": "code",
   "execution_count": 13,
   "id": "stock-focus",
   "metadata": {},
   "outputs": [
    {
     "name": "stdout",
     "output_type": "stream",
     "text": [
      "CPU times: user 55.1 ms, sys: 4.38 ms, total: 59.5 ms\n",
      "Wall time: 66.8 ms\n"
     ]
    },
    {
     "data": {
      "text/plain": [
       "['egg',\n",
       " 'butter',\n",
       " 'sugar',\n",
       " 'onion',\n",
       " 'pepper',\n",
       " 'flmy',\n",
       " 'olive oil',\n",
       " 'water',\n",
       " 'garlic clove',\n",
       " 'milk']"
      ]
     },
     "execution_count": 13,
     "metadata": {},
     "output_type": "execute_result"
    }
   ],
   "source": [
    "%%time\n",
    "output_func('salt',10)"
   ]
  },
  {
   "cell_type": "code",
   "execution_count": 14,
   "id": "smart-writer",
   "metadata": {},
   "outputs": [
    {
     "name": "stdout",
     "output_type": "stream",
     "text": [
      "pecorino pepato cheese\n"
     ]
    }
   ],
   "source": [
    "print(get_name(5308))\n",
    "# print(get_id('tomatoes'))"
   ]
  },
  {
   "cell_type": "code",
   "execution_count": 15,
   "id": "floppy-snake",
   "metadata": {},
   "outputs": [
    {
     "data": {
      "text/plain": [
       "array([5010, 6270, 7213])"
      ]
     },
     "execution_count": 15,
     "metadata": {},
     "output_type": "execute_result"
    }
   ],
   "source": [
    "num_matches = 3\n",
    "id_input = [7213,5010]\n",
    "# for ingredient in \n",
    "numpy_arr = np.nonzero(from_sparse_df[:,id_input])\n",
    "indices = (-final_sparse[numpy_arr[0],:].sum(axis=0).A1).argsort()[:num_matches]\n",
    "indices"
   ]
  },
  {
   "cell_type": "code",
   "execution_count": 16,
   "id": "hispanic-qualification",
   "metadata": {},
   "outputs": [
    {
     "data": {
      "text/plain": [
       "'zucchini'"
      ]
     },
     "execution_count": 16,
     "metadata": {},
     "output_type": "execute_result"
    }
   ],
   "source": [
    "get_name(8021)"
   ]
  },
  {
   "cell_type": "code",
   "execution_count": null,
   "id": "enhanced-paintball",
   "metadata": {},
   "outputs": [],
   "source": []
  }
 ],
 "metadata": {
  "kernelspec": {
   "display_name": "Python 3",
   "language": "python",
   "name": "python3"
  },
  "language_info": {
   "codemirror_mode": {
    "name": "ipython",
    "version": 3
   },
   "file_extension": ".py",
   "mimetype": "text/x-python",
   "name": "python",
   "nbconvert_exporter": "python",
   "pygments_lexer": "ipython3",
   "version": "3.8.6"
  }
 },
 "nbformat": 4,
 "nbformat_minor": 5
}
