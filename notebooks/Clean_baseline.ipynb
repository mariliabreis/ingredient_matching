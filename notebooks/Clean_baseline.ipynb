{
 "cells": [
  {
   "cell_type": "code",
   "execution_count": 2,
   "id": "wooden-intervention",
   "metadata": {},
   "outputs": [],
   "source": [
    "import pandas as pd\n",
    "from sklearn.preprocessing import OneHotEncoder\n",
    "import scipy.sparse as sparse\n",
    "import numpy as np"
   ]
  },
  {
   "cell_type": "code",
   "execution_count": 3,
   "id": "permanent-heater",
   "metadata": {},
   "outputs": [
    {
     "name": "stdout",
     "output_type": "stream",
     "text": [
      "CPU times: user 1.33 s, sys: 2.65 s, total: 3.98 s\n",
      "Wall time: 5.92 s\n"
     ]
    }
   ],
   "source": [
    "%%time\n",
    "final_sparse = sparse.load_npz(r'/Users/giancarlotissot/code/mariliabreis/ingredient_matching/raw_data/sparse_final_df.npz')\n",
    "from_sparse_df = final_sparse.todense()\n",
    "\n",
    "final_df = pd.DataFrame(from_sparse_df)"
   ]
  },
  {
   "cell_type": "code",
   "execution_count": 11,
   "id": "nervous-vessel",
   "metadata": {},
   "outputs": [
    {
     "data": {
      "text/plain": [
       "(array([0, 0, 0, 0, 0, 0, 0, 0, 0, 0, 0, 0, 0, 0, 0]),\n",
       " array([1119, 2402, 2499, 2777, 2837, 2994, 3184, 5006, 5010, 5915, 5994,\n",
       "        6270, 7367, 7557, 7970]))"
      ]
     },
     "execution_count": 11,
     "metadata": {},
     "output_type": "execute_result"
    }
   ],
   "source": [
    "### INVESTIGATION CELL ###\n",
    "np.nonzero(from_sparse_df[:,])"
   ]
  },
  {
   "cell_type": "code",
   "execution_count": 11,
   "id": "starting-breakdown",
   "metadata": {},
   "outputs": [],
   "source": [
    "df_pickle = pd.read_pickle('/Users/giancarlotissot/code/mariliabreis/ingredient_matching/raw_data/recipe_list/ingr_map.pkl')\n",
    "ingredients_clean = df_pickle[['id','replaced','count','raw_ingr']]"
   ]
  },
  {
   "cell_type": "code",
   "execution_count": 12,
   "id": "guided-yesterday",
   "metadata": {},
   "outputs": [],
   "source": [
    "def get_id(ingredient_str):\n",
    "    # Transforms string input to pre-processed ID\n",
    "    ingredient_id = ingredients_clean[ingredients_clean['raw_ingr'] ==ingredient_str]\n",
    "    ingredient_id.reset_index(inplace=True)\n",
    "    return ingredient_id.loc[0,'id']\n",
    "\n",
    "def get_name(ingredient_id):\n",
    "    # Transforms ID back to pre-processed string\n",
    "    ingredient_name = ingredients_clean[ingredients_clean['id'] == ingredient_id]\n",
    "    ingredient_name.reset_index(inplace=True)\n",
    "    return ingredient_name.loc[0,'replaced']"
   ]
  },
  {
   "cell_type": "code",
   "execution_count": 13,
   "id": "nonprofit-option",
   "metadata": {},
   "outputs": [],
   "source": [
    "def find_match(ingredient_id,num_matches):\n",
    "    # Returns list of ingredient IDs and count of occurances\n",
    "    total = final_df[final_df[ingredient_id]==1].sum()\n",
    "    ids = total.sort_values(ascending=False)\n",
    "    return list(ids.head(num_matches).index)\n",
    "    \n",
    "def list_to_names(ingredient_id_list):\n",
    "    # Takes in list of ingredient IDs and returns list of names\n",
    "    list_ = []\n",
    "    for id in ingredient_id_list:\n",
    "        list_.append(get_name(id))\n",
    "    return list_\n",
    "\n",
    "def output_func(input_ingredient,num_matches=10):\n",
    "    # Combines other functions into a workflow\n",
    "    num_matches += 1\n",
    "    result = get_id(input_ingredient)\n",
    "    ids = find_match(result,num_matches)\n",
    "    names = list_to_names(ids)\n",
    "    names.pop(0)\n",
    "    return names"
   ]
  },
  {
   "cell_type": "code",
   "execution_count": 17,
   "id": "stock-focus",
   "metadata": {},
   "outputs": [
    {
     "name": "stdout",
     "output_type": "stream",
     "text": [
      "CPU times: user 4.64 s, sys: 9.08 s, total: 13.7 s\n",
      "Wall time: 23.8 s\n"
     ]
    },
    {
     "data": {
      "text/plain": [
       "['egg',\n",
       " 'butter',\n",
       " 'sugar',\n",
       " 'onion',\n",
       " 'pepper',\n",
       " 'flmy',\n",
       " 'olive oil',\n",
       " 'water',\n",
       " 'garlic clove',\n",
       " 'milk']"
      ]
     },
     "execution_count": 17,
     "metadata": {},
     "output_type": "execute_result"
    }
   ],
   "source": [
    "%%time\n",
    "output_func('salt',10)"
   ]
  },
  {
   "cell_type": "code",
   "execution_count": null,
   "id": "floppy-snake",
   "metadata": {},
   "outputs": [],
   "source": []
  }
 ],
 "metadata": {
  "kernelspec": {
   "display_name": "Python 3",
   "language": "python",
   "name": "python3"
  },
  "language_info": {
   "codemirror_mode": {
    "name": "ipython",
    "version": 3
   },
   "file_extension": ".py",
   "mimetype": "text/x-python",
   "name": "python",
   "nbconvert_exporter": "python",
   "pygments_lexer": "ipython3",
   "version": "3.8.6"
  }
 },
 "nbformat": 4,
 "nbformat_minor": 5
}
