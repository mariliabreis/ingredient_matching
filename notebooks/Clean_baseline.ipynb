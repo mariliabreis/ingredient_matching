{
 "cells": [
  {
   "cell_type": "markdown",
   "id": "scientific-blink",
   "metadata": {},
   "source": [
    "# Loading Things"
   ]
  },
  {
   "cell_type": "code",
   "execution_count": 2,
   "id": "wooden-intervention",
   "metadata": {},
   "outputs": [],
   "source": [
    "import pandas as pd\n",
    "from sklearn.preprocessing import OneHotEncoder\n",
    "import scipy.sparse as sparse\n",
    "import numpy as np"
   ]
  },
  {
   "cell_type": "code",
   "execution_count": 125,
   "id": "permanent-heater",
   "metadata": {
    "scrolled": true
   },
   "outputs": [
    {
     "name": "stdout",
     "output_type": "stream",
     "text": [
      "CPU times: user 73.7 ms, sys: 20.3 ms, total: 94 ms\n",
      "Wall time: 220 ms\n"
     ]
    }
   ],
   "source": [
    "%%time\n",
    "final_sparse = sparse.load_npz(r'/Users/giancarlotissot/code/mariliabreis/ingredient_matching/raw_data/sparse_final_df.npz')\n",
    "\n",
    "# final_df = pd.DataFrame(from_sparse_df)"
   ]
  },
  {
   "cell_type": "code",
   "execution_count": 126,
   "id": "colored-lebanon",
   "metadata": {},
   "outputs": [
    {
     "name": "stdout",
     "output_type": "stream",
     "text": [
      "CPU times: user 1.13 s, sys: 2.22 s, total: 3.35 s\n",
      "Wall time: 5.01 s\n"
     ]
    }
   ],
   "source": [
    "%%time\n",
    "from_sparse_df = final_sparse.todense()"
   ]
  },
  {
   "cell_type": "markdown",
   "id": "significant-capability",
   "metadata": {},
   "source": [
    "# Actual Code"
   ]
  },
  {
   "cell_type": "code",
   "execution_count": 127,
   "id": "musical-copyright",
   "metadata": {},
   "outputs": [
    {
     "name": "stdout",
     "output_type": "stream",
     "text": [
      "CPU times: user 147 ms, sys: 267 ms, total: 414 ms\n",
      "Wall time: 929 ms\n"
     ]
    }
   ],
   "source": [
    "%%time\n",
    "### INVESTIGATION CELL ###\n",
    "numpy_arr = np.nonzero(from_sparse_df[:,6270])\n",
    "# print(numpy_arr[0])\n",
    "# print(from_sparse_df[numpy_arr[0],:].sum(axis=0))\n",
    "# print(final_sparse[numpy_arr[0],:].todense())"
   ]
  },
  {
   "cell_type": "code",
   "execution_count": 129,
   "id": "corrected-alias",
   "metadata": {},
   "outputs": [
    {
     "name": "stdout",
     "output_type": "stream",
     "text": [
      "CPU times: user 17.8 ms, sys: 42.3 ms, total: 60.1 ms\n",
      "Wall time: 108 ms\n"
     ]
    },
    {
     "data": {
      "text/plain": [
       "array([6270, 2499,  840, 6906, 5010, 5319, 2683, 5006, 7655, 3203])"
      ]
     },
     "execution_count": 129,
     "metadata": {},
     "output_type": "execute_result"
    }
   ],
   "source": [
    "%%time\n",
    "n = 10\n",
    "indices_sparse = (-final_sparse[numpy_arr[0],:].sum(axis=0).A1).argsort()[:n]\n",
    "indices_sparse"
   ]
  },
  {
   "cell_type": "code",
   "execution_count": 133,
   "id": "brilliant-latex",
   "metadata": {},
   "outputs": [],
   "source": [
    "### Slower Version ###\n",
    "# %%time\n",
    "# # indices = (-numbers).argsort()[:n]\n",
    "# n=10\n",
    "\n",
    "# indices = (-from_sparse_df[numpy_arr[0],:].sum(axis=0).A1).argsort()[:n]\n",
    "# indices"
   ]
  },
  {
   "cell_type": "code",
   "execution_count": 130,
   "id": "starting-breakdown",
   "metadata": {},
   "outputs": [],
   "source": [
    "df_pickle = pd.read_pickle('/Users/giancarlotissot/code/mariliabreis/ingredient_matching/raw_data/recipe_list/ingr_map.pkl')\n",
    "ingredients_clean = df_pickle[['id','replaced','count','raw_ingr']]"
   ]
  },
  {
   "cell_type": "code",
   "execution_count": 131,
   "id": "guided-yesterday",
   "metadata": {},
   "outputs": [],
   "source": [
    "def get_id(ingredient_str):\n",
    "    # Transforms string input to pre-processed ID\n",
    "    ingredient_id = ingredients_clean[ingredients_clean['raw_ingr'] ==ingredient_str]\n",
    "    ingredient_id.reset_index(inplace=True)\n",
    "    return ingredient_id.loc[0,'id']\n",
    "    \n",
    "def get_name(ingredient_id):\n",
    "    # Transforms ID back to pre-processed string\n",
    "    ingredient_name = ingredients_clean[ingredients_clean['id'] == ingredient_id]\n",
    "    ingredient_name.reset_index(inplace=True)\n",
    "    return ingredient_name.loc[0,'replaced']"
   ]
  },
  {
   "cell_type": "code",
   "execution_count": 191,
   "id": "brief-tract",
   "metadata": {},
   "outputs": [],
   "source": [
    "### Old Version ###\n",
    "# def output_func(input_ingredient,num_matches=10):\n",
    "#     # Combines other functions into a workflow\n",
    "#     num_matches += 1\n",
    "    \n",
    "#     if type(input_ingredient) == list:\n",
    "#         id_input = []\n",
    "#         for ingredient in input_ingredient:\n",
    "#             id_input.append(get_id(ingredient))\n",
    "#     else:\n",
    "#         id_input = get_id(input_ingredient)\n",
    "        \n",
    "#     id_list = find_match(id_input,num_matches)\n",
    "#     names = list_to_names(id_list)\n",
    "    \n",
    "#     names.pop(0)\n",
    "#     return names\n"
   ]
  },
  {
   "cell_type": "code",
   "execution_count": 212,
   "id": "nonprofit-option",
   "metadata": {},
   "outputs": [],
   "source": [
    "def find_match(id_input,num_matches):\n",
    "    # Returns list of ingredient IDs and count of occurances\n",
    "    numpy_arr = np.nonzero(from_sparse_df[:,id_input])\n",
    "    indices = (-final_sparse[numpy_arr[0],:].sum(axis=0).A1).argsort()[:num_matches]\n",
    "    return indices\n",
    "    \n",
    "def list_to_names(ingredient_id_list):\n",
    "    # Takes in list of ingredient IDs and returns list of names\n",
    "    list_ = []\n",
    "    for id in ingredient_id_list:\n",
    "        list_.append(get_name(id))\n",
    "    return list_\n",
    "\n",
    "def output_func(input_ingredient,num_matches=10):\n",
    "    # Combines other functions into a workflow\n",
    "    num_matches += 1\n",
    "    \n",
    "    if type(input_ingredient) != list:\n",
    "        input_ingredient = [input_ingredient]\n",
    "    id_input = []\n",
    "    for ingredient in input_ingredient:\n",
    "        id_input.append(get_id(ingredient))\n",
    "    id_list = find_match(id_input,num_matches)\n",
    "    names = list_to_names(id_list)\n",
    "\n",
    "    names.pop(0)\n",
    "    return names"
   ]
  },
  {
   "cell_type": "code",
   "execution_count": 213,
   "id": "compliant-rouge",
   "metadata": {},
   "outputs": [
    {
     "name": "stdout",
     "output_type": "stream",
     "text": [
      "CPU times: user 75.4 ms, sys: 4.21 ms, total: 79.6 ms\n",
      "Wall time: 151 ms\n"
     ]
    },
    {
     "data": {
      "text/plain": [
       "['egg',\n",
       " 'butter',\n",
       " 'sugar',\n",
       " 'onion',\n",
       " 'pepper',\n",
       " 'flmy',\n",
       " 'olive oil',\n",
       " 'water',\n",
       " 'garlic clove',\n",
       " 'milk']"
      ]
     },
     "execution_count": 213,
     "metadata": {},
     "output_type": "execute_result"
    }
   ],
   "source": [
    "%%time\n",
    "output_func('salt')"
   ]
  },
  {
   "cell_type": "code",
   "execution_count": 190,
   "id": "differential-museum",
   "metadata": {},
   "outputs": [
    {
     "name": "stdout",
     "output_type": "stream",
     "text": [
      "2\n",
      "CPU times: user 94.3 ms, sys: 5.96 ms, total: 100 ms\n",
      "Wall time: 203 ms\n"
     ]
    },
    {
     "data": {
      "text/plain": [
       "['salt',\n",
       " 'egg',\n",
       " 'sugar',\n",
       " 'onion',\n",
       " 'pepper',\n",
       " 'olive oil',\n",
       " 'flmy',\n",
       " 'garlic clove',\n",
       " 'water',\n",
       " 'milk']"
      ]
     },
     "execution_count": 190,
     "metadata": {},
     "output_type": "execute_result"
    }
   ],
   "source": [
    "%%time\n",
    "output_func2(['salt','lettuce'])"
   ]
  },
  {
   "cell_type": "code",
   "execution_count": 178,
   "id": "stock-focus",
   "metadata": {},
   "outputs": [
    {
     "name": "stdout",
     "output_type": "stream",
     "text": [
      "CPU times: user 212 ms, sys: 520 ms, total: 732 ms\n",
      "Wall time: 1.23 s\n"
     ]
    },
    {
     "data": {
      "text/plain": [
       "['olive oil',\n",
       " 'orange juice',\n",
       " 'butter',\n",
       " 'parmesan cheese',\n",
       " 'fennel',\n",
       " 'asiago cheese',\n",
       " 'red onion',\n",
       " 'cayenne pepper',\n",
       " 'sea salt',\n",
       " 'ground pepper']"
      ]
     },
     "execution_count": 178,
     "metadata": {},
     "output_type": "execute_result"
    }
   ],
   "source": [
    "%%time\n",
    "output_func('pecorino pepato cheese',10)"
   ]
  },
  {
   "cell_type": "code",
   "execution_count": 169,
   "id": "smart-writer",
   "metadata": {},
   "outputs": [
    {
     "name": "stdout",
     "output_type": "stream",
     "text": [
      "7213\n"
     ]
    }
   ],
   "source": [
    "print(get_name(5308))\n",
    "# print(get_id('tomatoes'))"
   ]
  },
  {
   "cell_type": "code",
   "execution_count": 171,
   "id": "floppy-snake",
   "metadata": {},
   "outputs": [
    {
     "data": {
      "text/plain": [
       "array([5010, 6270, 7213])"
      ]
     },
     "execution_count": 171,
     "metadata": {},
     "output_type": "execute_result"
    }
   ],
   "source": [
    "num_matches = 3\n",
    "id_input = [7213,5010]\n",
    "# for ingredient in \n",
    "numpy_arr = np.nonzero(from_sparse_df[:,id_input])\n",
    "indices = (-final_sparse[numpy_arr[0],:].sum(axis=0).A1).argsort()[:num_matches]\n",
    "indices"
   ]
  },
  {
   "cell_type": "code",
   "execution_count": 2,
   "id": "hispanic-qualification",
   "metadata": {},
   "outputs": [
    {
     "ename": "NameError",
     "evalue": "name 'get_name' is not defined",
     "output_type": "error",
     "traceback": [
      "\u001b[0;31m---------------------------------------------------------------------------\u001b[0m",
      "\u001b[0;31mNameError\u001b[0m                                 Traceback (most recent call last)",
      "\u001b[0;32m<ipython-input-2-49ed75bf73ff>\u001b[0m in \u001b[0;36m<module>\u001b[0;34m\u001b[0m\n\u001b[0;32m----> 1\u001b[0;31m \u001b[0mget_name\u001b[0m\u001b[0;34m(\u001b[0m\u001b[0;36m8021\u001b[0m\u001b[0;34m)\u001b[0m\u001b[0;34m\u001b[0m\u001b[0;34m\u001b[0m\u001b[0m\n\u001b[0m",
      "\u001b[0;31mNameError\u001b[0m: name 'get_name' is not defined"
     ]
    }
   ],
   "source": [
    "get_name(8021)"
   ]
  },
  {
   "cell_type": "code",
   "execution_count": null,
   "id": "enhanced-paintball",
   "metadata": {},
   "outputs": [],
   "source": []
  }
 ],
 "metadata": {
  "kernelspec": {
   "display_name": "Python 3",
   "language": "python",
   "name": "python3"
  },
  "language_info": {
   "codemirror_mode": {
    "name": "ipython",
    "version": 3
   },
   "file_extension": ".py",
   "mimetype": "text/x-python",
   "name": "python",
   "nbconvert_exporter": "python",
   "pygments_lexer": "ipython3",
   "version": "3.8.6"
  }
 },
 "nbformat": 4,
 "nbformat_minor": 5
}
