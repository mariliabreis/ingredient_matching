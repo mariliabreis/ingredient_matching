{
 "cells": [
  {
   "cell_type": "markdown",
   "id": "alone-nicholas",
   "metadata": {},
   "source": [
    "# Creating an API for the co-occurence model"
   ]
  },
  {
   "cell_type": "code",
   "execution_count": 1,
   "id": "temporal-share",
   "metadata": {},
   "outputs": [],
   "source": [
    "import numpy as np\n",
    "import pandas as pd"
   ]
  },
  {
   "cell_type": "code",
   "execution_count": 2,
   "id": "removable-colombia",
   "metadata": {},
   "outputs": [],
   "source": [
    "combination_percentage = pd.read_csv('../raw_data/baseline_front_end/combination_percentage.csv')"
   ]
  },
  {
   "cell_type": "code",
   "execution_count": 3,
   "id": "popular-qatar",
   "metadata": {},
   "outputs": [],
   "source": [
    "ordered_keys = pd.read_csv('../raw_data/baseline_front_end/ordered_keys.csv')"
   ]
  },
  {
   "cell_type": "markdown",
   "id": "brutal-breach",
   "metadata": {},
   "source": [
    "# Creating the basis for the API"
   ]
  },
  {
   "cell_type": "code",
   "execution_count": 6,
   "id": "realistic-civilian",
   "metadata": {},
   "outputs": [],
   "source": [
    "from fastapi import FastAPI\n",
    "\n",
    "app = FastAPI()\n",
    "\n",
    "# define a root `/` endpoint\n",
    "@app.get(\"/\")\n",
    "def index():\n",
    "    return {\"ok\": True}"
   ]
  },
  {
   "cell_type": "code",
   "execution_count": null,
   "id": "annual-drove",
   "metadata": {},
   "outputs": [],
   "source": [
    "# define a query endpoint\n",
    "@app.get(\"/co_occurrence\")\n",
    "def co_occurrence(item):\n",
    "    word_index = ordered_keys[ordered_keys['replaced'] == search_word].index[0]\n",
    "    ingredient_row = combination_percentage.iloc[word_index:word_index+1,:].T.sort_values(by=word_index, ascending=False)\n",
    "    top_results = []\n",
    "    for index in range(1,20):\n",
    "        ingr_id = ingredient_row.T.columns[index]\n",
    "        name = ordered_keys['replaced'].iloc[ingr_id]\n",
    "        top_results.append(name)\n",
    "    return {'co_occurence': top_results}"
   ]
  }
 ],
 "metadata": {
  "kernelspec": {
   "display_name": "Python 3",
   "language": "python",
   "name": "python3"
  },
  "language_info": {
   "codemirror_mode": {
    "name": "ipython",
    "version": 3
   },
   "file_extension": ".py",
   "mimetype": "text/x-python",
   "name": "python",
   "nbconvert_exporter": "python",
   "pygments_lexer": "ipython3",
   "version": "3.8.6"
  }
 },
 "nbformat": 4,
 "nbformat_minor": 5
}
