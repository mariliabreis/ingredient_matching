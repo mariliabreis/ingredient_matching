{
 "cells": [
  {
   "cell_type": "code",
   "execution_count": 1,
   "id": "rubber-therapy",
   "metadata": {},
   "outputs": [],
   "source": [
    "import pandas as pd\n",
    "import ast\n",
    "from sklearn.feature_extraction.text import CountVectorizer\n",
    "from scipy import sparse"
   ]
  },
  {
   "cell_type": "code",
   "execution_count": 2,
   "id": "significant-singing",
   "metadata": {},
   "outputs": [],
   "source": [
    "recipes_clean = pd.read_csv('/Users/giancarlotissot/code/mariliabreis/ingredient_matching/raw_data/recipes.csv')\n",
    "ingredients_keys = pd.read_csv('/Users/giancarlotissot/code/mariliabreis/ingredient_matching/raw_data/ingredient_keys.csv')\n",
    "ingredients_keys.drop(columns='Unnamed: 0',inplace=True)"
   ]
  },
  {
   "cell_type": "code",
   "execution_count": 3,
   "id": "comfortable-conversion",
   "metadata": {},
   "outputs": [],
   "source": [
    "df_pickle = pd.read_pickle('/Users/giancarlotissot/code/mariliabreis/ingredient_matching/raw_data/recipe_list/ingr_map.pkl')\n",
    "ingredients_clean = df_pickle[['id','replaced','count','raw_ingr']]\n",
    "# ingredients_clean.head(10)"
   ]
  },
  {
   "cell_type": "code",
   "execution_count": 4,
   "id": "alone-italy",
   "metadata": {},
   "outputs": [],
   "source": [
    "new_df = recipes_clean[['id','ingredient_ids']].copy()\n",
    "new_df = pd.DataFrame(new_df)"
   ]
  },
  {
   "cell_type": "code",
   "execution_count": 5,
   "id": "designing-carolina",
   "metadata": {},
   "outputs": [],
   "source": [
    "unique_ingredients_df = ingredients_keys.drop_duplicates().copy()\n",
    "list_ingredient_ids = unique_ingredients_df['id'].sort_values()\n",
    "\n",
    "final_df = pd.DataFrame(columns=list_ingredient_ids,index=new_df['id'],data=0)"
   ]
  },
  {
   "cell_type": "code",
   "execution_count": 6,
   "id": "ordered-visibility",
   "metadata": {},
   "outputs": [
    {
     "data": {
      "text/html": [
       "<div>\n",
       "<style scoped>\n",
       "    .dataframe tbody tr th:only-of-type {\n",
       "        vertical-align: middle;\n",
       "    }\n",
       "\n",
       "    .dataframe tbody tr th {\n",
       "        vertical-align: top;\n",
       "    }\n",
       "\n",
       "    .dataframe thead th {\n",
       "        text-align: right;\n",
       "    }\n",
       "</style>\n",
       "<table border=\"1\" class=\"dataframe\">\n",
       "  <thead>\n",
       "    <tr style=\"text-align: right;\">\n",
       "      <th></th>\n",
       "      <th>id</th>\n",
       "      <th>ingredient_ids</th>\n",
       "    </tr>\n",
       "  </thead>\n",
       "  <tbody>\n",
       "    <tr>\n",
       "      <th>0</th>\n",
       "      <td>137739</td>\n",
       "      <td>[7933, 4694, 4795, 3723, 840, 5006, 6270]</td>\n",
       "    </tr>\n",
       "    <tr>\n",
       "      <th>1</th>\n",
       "      <td>31490</td>\n",
       "      <td>[5481, 6324, 2499, 4717, 6276, 1170]</td>\n",
       "    </tr>\n",
       "    <tr>\n",
       "      <th>2</th>\n",
       "      <td>59389</td>\n",
       "      <td>[1170, 4918, 6426, 5185, 7099, 5006, 6009, 627...</td>\n",
       "    </tr>\n",
       "    <tr>\n",
       "      <th>3</th>\n",
       "      <td>5289</td>\n",
       "      <td>[4717, 7474, 2946, 150]</td>\n",
       "    </tr>\n",
       "    <tr>\n",
       "      <th>4</th>\n",
       "      <td>25274</td>\n",
       "      <td>[2587, 3437, 5002, 3184, 5324, 5068, 5058, 131...</td>\n",
       "    </tr>\n",
       "  </tbody>\n",
       "</table>\n",
       "</div>"
      ],
      "text/plain": [
       "       id                                     ingredient_ids\n",
       "0  137739          [7933, 4694, 4795, 3723, 840, 5006, 6270]\n",
       "1   31490               [5481, 6324, 2499, 4717, 6276, 1170]\n",
       "2   59389  [1170, 4918, 6426, 5185, 7099, 5006, 6009, 627...\n",
       "3    5289                            [4717, 7474, 2946, 150]\n",
       "4   25274  [2587, 3437, 5002, 3184, 5324, 5068, 5058, 131..."
      ]
     },
     "execution_count": 6,
     "metadata": {},
     "output_type": "execute_result"
    }
   ],
   "source": [
    "new_df.head()"
   ]
  },
  {
   "cell_type": "code",
   "execution_count": null,
   "id": "adopted-float",
   "metadata": {},
   "outputs": [
    {
     "name": "stdout",
     "output_type": "stream",
     "text": [
      "looking at id: 38489\r"
     ]
    }
   ],
   "source": [
    "%%time\n",
    "reduced_df = new_df.head(2000)\n",
    "count =0\n",
    "for id,recipe in new_df[['id','ingredient_ids']].to_numpy():\n",
    "    count+=1\n",
    "    print(f\"looking at id: {count}\",end=\"\\r\")\n",
    "    columns = ast.literal_eval(recipe)\n",
    "    final_df.loc[id,columns] = 1"
   ]
  },
  {
   "cell_type": "code",
   "execution_count": null,
   "id": "excited-voltage",
   "metadata": {},
   "outputs": [],
   "source": [
    "%%time\n",
    "save = False\n",
    "if save == True:\n",
    "    final_df.to_csv(r'/Users/giancarlotissot/code/mariliabreis/ingredient_matching/raw_data/final_df.csv')"
   ]
  },
  {
   "cell_type": "code",
   "execution_count": null,
   "id": "lasting-photograph",
   "metadata": {},
   "outputs": [],
   "source": [
    "final_sparse = sparse.csr_matrix(final_df.values)"
   ]
  },
  {
   "cell_type": "code",
   "execution_count": null,
   "id": "corresponding-russia",
   "metadata": {},
   "outputs": [],
   "source": [
    "save = False\n",
    "if save == True:\n",
    "    sparse.save_npz(r'/Users/giancarlotissot/code/mariliabreis/ingredient_matching/raw_data/sparse_final_df.npz',final_sparse)"
   ]
  },
  {
   "cell_type": "code",
   "execution_count": null,
   "id": "owned-wrist",
   "metadata": {},
   "outputs": [],
   "source": [
    "### TO DO ###\n",
    "### Use Sparse Matrix"
   ]
  },
  {
   "cell_type": "markdown",
   "id": "cognitive-spell",
   "metadata": {},
   "source": [
    "## Input function"
   ]
  },
  {
   "cell_type": "code",
   "execution_count": null,
   "id": "strategic-recipe",
   "metadata": {},
   "outputs": [],
   "source": [
    "def get_id(ingredient_str):\n",
    "    # Transforms string input to pre-processed ID\n",
    "    ingredient_id = ingredients_clean[ingredients_clean['raw_ingr'] ==ingredient_str]\n",
    "    ingredient_id.reset_index(inplace=True)\n",
    "    return ingredient_id.loc[0,'id']\n",
    "\n",
    "def get_name(ingredient_id):\n",
    "    # Transforms ID back to pre-processed string\n",
    "    ingredient_name = ingredients_clean[ingredients_clean['id'] == ingredient_id]\n",
    "    ingredient_name.reset_index(inplace=True)\n",
    "    return ingredient_name.loc[0,'replaced']"
   ]
  },
  {
   "cell_type": "code",
   "execution_count": null,
   "id": "spectacular-relationship",
   "metadata": {},
   "outputs": [],
   "source": [
    "def find_match(ingredient_id,num_matches):\n",
    "    # Returns list of ingredient IDs and count of occurances\n",
    "    total = final_df[final_df[ingredient_id]==1].sum()\n",
    "    ids = total.sort_values(ascending=False)\n",
    "    return list(ids.head(num_matches).index)\n",
    "    \n",
    "def list_to_names(ingredient_id_list):\n",
    "    # Takes in list of ingredient IDs and returns list of names\n",
    "    list_ = []\n",
    "    for id in ingredient_id_list:\n",
    "        list_.append(get_name(id))\n",
    "    return list_\n",
    "\n",
    "def output_func(input_ingredient,num_matches=10):\n",
    "    # Combines other functions into a workflow\n",
    "    num_matches += 1\n",
    "    result = get_id(input_ingredient)\n",
    "    ids = find_match(result,num_matches)\n",
    "    names = list_to_names(ids)\n",
    "    names.pop(0)\n",
    "    return names"
   ]
  },
  {
   "cell_type": "code",
   "execution_count": null,
   "id": "consistent-boards",
   "metadata": {},
   "outputs": [],
   "source": [
    "# [ingredient_id_1]==1 && [ingredient_id_2]==1"
   ]
  },
  {
   "cell_type": "markdown",
   "id": "outer-processing",
   "metadata": {},
   "source": [
    "## Processing Order\n",
    "#get_id -> str to ID\n",
    "#find_match -> Table\n",
    "#list_to_names"
   ]
  },
  {
   "cell_type": "code",
   "execution_count": null,
   "id": "cooked-asset",
   "metadata": {},
   "outputs": [],
   "source": [
    "output_func('salt')"
   ]
  },
  {
   "cell_type": "code",
   "execution_count": null,
   "id": "expected-hollow",
   "metadata": {},
   "outputs": [],
   "source": []
  }
 ],
 "metadata": {
  "kernelspec": {
   "display_name": "Python 3",
   "language": "python",
   "name": "python3"
  },
  "language_info": {
   "codemirror_mode": {
    "name": "ipython",
    "version": 3
   },
   "file_extension": ".py",
   "mimetype": "text/x-python",
   "name": "python",
   "nbconvert_exporter": "python",
   "pygments_lexer": "ipython3",
   "version": "3.8.6"
  }
 },
 "nbformat": 4,
 "nbformat_minor": 5
}
