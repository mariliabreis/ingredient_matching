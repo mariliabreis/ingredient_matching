{
 "cells": [
  {
   "cell_type": "markdown",
   "id": "atmospheric-saudi",
   "metadata": {},
   "source": [
    "# Padding data"
   ]
  },
  {
   "cell_type": "code",
   "execution_count": 1,
   "id": "solar-diary",
   "metadata": {},
   "outputs": [],
   "source": [
    "import numpy as np\n",
    "import pandas as pd\n",
    "\n",
    "PP_recipes = pd.read_csv(\"../raw_data/recipes/PP_recipes.csv\")\n",
    "RAW_recipes = pd.read_csv(\"../raw_data/recipes/RAW_recipes.csv\")"
   ]
  },
  {
   "cell_type": "code",
   "execution_count": 2,
   "id": "plastic-converter",
   "metadata": {},
   "outputs": [],
   "source": [
    "# pegar id das receitas, id dos ingredientes delas, e tags. dar join on recipes id\n",
    "PP_recipes = PP_recipes[['id', 'ingredient_ids']]"
   ]
  },
  {
   "cell_type": "code",
   "execution_count": 3,
   "id": "toxic-syndicate",
   "metadata": {},
   "outputs": [],
   "source": [
    "RAW_recipes = RAW_recipes[['id', 'tags']]"
   ]
  },
  {
   "cell_type": "code",
   "execution_count": 4,
   "id": "intermediate-breath",
   "metadata": {},
   "outputs": [],
   "source": [
    "recipes = pd.merge(PP_recipes, RAW_recipes, how='inner', on='id')"
   ]
  },
  {
   "cell_type": "code",
   "execution_count": 5,
   "id": "dependent-campaign",
   "metadata": {},
   "outputs": [
    {
     "data": {
      "text/html": [
       "<div>\n",
       "<style scoped>\n",
       "    .dataframe tbody tr th:only-of-type {\n",
       "        vertical-align: middle;\n",
       "    }\n",
       "\n",
       "    .dataframe tbody tr th {\n",
       "        vertical-align: top;\n",
       "    }\n",
       "\n",
       "    .dataframe thead th {\n",
       "        text-align: right;\n",
       "    }\n",
       "</style>\n",
       "<table border=\"1\" class=\"dataframe\">\n",
       "  <thead>\n",
       "    <tr style=\"text-align: right;\">\n",
       "      <th></th>\n",
       "      <th>id</th>\n",
       "      <th>ingredient_ids</th>\n",
       "      <th>tags</th>\n",
       "    </tr>\n",
       "  </thead>\n",
       "  <tbody>\n",
       "    <tr>\n",
       "      <th>0</th>\n",
       "      <td>424415</td>\n",
       "      <td>[389, 7655, 6270, 1527, 3406]</td>\n",
       "      <td>['weeknight', 'time-to-make', 'course', 'main-...</td>\n",
       "    </tr>\n",
       "    <tr>\n",
       "      <th>1</th>\n",
       "      <td>146223</td>\n",
       "      <td>[2683, 4969, 800, 5298, 840, 2499, 6632, 7022,...</td>\n",
       "      <td>['60-minutes-or-less', 'time-to-make', 'course...</td>\n",
       "    </tr>\n",
       "    <tr>\n",
       "      <th>2</th>\n",
       "      <td>312329</td>\n",
       "      <td>[1257, 7655, 6270, 590, 5024, 1119, 4883, 6696...</td>\n",
       "      <td>['30-minutes-or-less', 'time-to-make', 'course...</td>\n",
       "    </tr>\n",
       "    <tr>\n",
       "      <th>3</th>\n",
       "      <td>74301</td>\n",
       "      <td>[7940, 3609, 7060, 6265, 1170, 6654, 5003, 3561]</td>\n",
       "      <td>['15-minutes-or-less', 'time-to-make', 'course...</td>\n",
       "    </tr>\n",
       "    <tr>\n",
       "      <th>4</th>\n",
       "      <td>76272</td>\n",
       "      <td>[3484, 6324, 7594, 243]</td>\n",
       "      <td>['30-minutes-or-less', 'time-to-make', 'course...</td>\n",
       "    </tr>\n",
       "    <tr>\n",
       "      <th>...</th>\n",
       "      <td>...</td>\n",
       "      <td>...</td>\n",
       "      <td>...</td>\n",
       "    </tr>\n",
       "    <tr>\n",
       "      <th>178260</th>\n",
       "      <td>323143</td>\n",
       "      <td>[840, 208, 2499, 2683, 1925, 335, 1511]</td>\n",
       "      <td>['30-minutes-or-less', 'time-to-make', 'course...</td>\n",
       "    </tr>\n",
       "    <tr>\n",
       "      <th>178261</th>\n",
       "      <td>149114</td>\n",
       "      <td>[2499, 4717, 1168, 6270, 6324, 7040]</td>\n",
       "      <td>['time-to-make', 'course', 'main-ingredient', ...</td>\n",
       "    </tr>\n",
       "    <tr>\n",
       "      <th>178262</th>\n",
       "      <td>34200</td>\n",
       "      <td>[2378, 7655, 3219, 2320, 5168, 5319, 4189, 268...</td>\n",
       "      <td>['60-minutes-or-less', 'time-to-make', 'course...</td>\n",
       "    </tr>\n",
       "    <tr>\n",
       "      <th>178263</th>\n",
       "      <td>30618</td>\n",
       "      <td>[5627, 2807, 5412, 3399, 7979, 1093, 1257, 780...</td>\n",
       "      <td>['60-minutes-or-less', 'time-to-make', 'main-i...</td>\n",
       "    </tr>\n",
       "    <tr>\n",
       "      <th>178264</th>\n",
       "      <td>263840</td>\n",
       "      <td>[6473, 800, 4807, 2683, 335, 1563, 1511, 3248,...</td>\n",
       "      <td>['60-minutes-or-less', 'time-to-make', 'course...</td>\n",
       "    </tr>\n",
       "  </tbody>\n",
       "</table>\n",
       "<p>178265 rows × 3 columns</p>\n",
       "</div>"
      ],
      "text/plain": [
       "            id                                     ingredient_ids  \\\n",
       "0       424415                      [389, 7655, 6270, 1527, 3406]   \n",
       "1       146223  [2683, 4969, 800, 5298, 840, 2499, 6632, 7022,...   \n",
       "2       312329  [1257, 7655, 6270, 590, 5024, 1119, 4883, 6696...   \n",
       "3        74301   [7940, 3609, 7060, 6265, 1170, 6654, 5003, 3561]   \n",
       "4        76272                            [3484, 6324, 7594, 243]   \n",
       "...        ...                                                ...   \n",
       "178260  323143            [840, 208, 2499, 2683, 1925, 335, 1511]   \n",
       "178261  149114               [2499, 4717, 1168, 6270, 6324, 7040]   \n",
       "178262   34200  [2378, 7655, 3219, 2320, 5168, 5319, 4189, 268...   \n",
       "178263   30618  [5627, 2807, 5412, 3399, 7979, 1093, 1257, 780...   \n",
       "178264  263840  [6473, 800, 4807, 2683, 335, 1563, 1511, 3248,...   \n",
       "\n",
       "                                                     tags  \n",
       "0       ['weeknight', 'time-to-make', 'course', 'main-...  \n",
       "1       ['60-minutes-or-less', 'time-to-make', 'course...  \n",
       "2       ['30-minutes-or-less', 'time-to-make', 'course...  \n",
       "3       ['15-minutes-or-less', 'time-to-make', 'course...  \n",
       "4       ['30-minutes-or-less', 'time-to-make', 'course...  \n",
       "...                                                   ...  \n",
       "178260  ['30-minutes-or-less', 'time-to-make', 'course...  \n",
       "178261  ['time-to-make', 'course', 'main-ingredient', ...  \n",
       "178262  ['60-minutes-or-less', 'time-to-make', 'course...  \n",
       "178263  ['60-minutes-or-less', 'time-to-make', 'main-i...  \n",
       "178264  ['60-minutes-or-less', 'time-to-make', 'course...  \n",
       "\n",
       "[178265 rows x 3 columns]"
      ]
     },
     "execution_count": 5,
     "metadata": {},
     "output_type": "execute_result"
    }
   ],
   "source": [
    "recipes"
   ]
  },
  {
   "cell_type": "code",
   "execution_count": 6,
   "id": "forbidden-indie",
   "metadata": {},
   "outputs": [],
   "source": [
    "from tensorflow.keras.preprocessing.sequence import pad_sequences\n",
    "\n",
    "# X_pad = pad_sequences(ingredient_ids)\n",
    "# X_pad"
   ]
  },
  {
   "cell_type": "code",
   "execution_count": 7,
   "id": "sexual-material",
   "metadata": {},
   "outputs": [],
   "source": [
    "# from sklearn.model_selection import train_test_split\n",
    "\n",
    "# X_train, X_test, y_train, y_test = train_test_split(X, y, test_size=0.20)"
   ]
  },
  {
   "cell_type": "code",
   "execution_count": 8,
   "id": "finite-twist",
   "metadata": {},
   "outputs": [],
   "source": [
    "from scipy.sparse import load_npz\n",
    "\n",
    "recipes_gian = load_npz('../raw_data/sparse_final_df.npz')"
   ]
  },
  {
   "cell_type": "code",
   "execution_count": 9,
   "id": "electrical-tsunami",
   "metadata": {},
   "outputs": [
    {
     "data": {
      "text/plain": [
       "<178265x8023 sparse matrix of type '<class 'numpy.int64'>'\n",
       "\twith 1602903 stored elements in Compressed Sparse Row format>"
      ]
     },
     "execution_count": 9,
     "metadata": {},
     "output_type": "execute_result"
    }
   ],
   "source": [
    "recipes_gian"
   ]
  }
 ],
 "metadata": {
  "kernelspec": {
   "display_name": "Python 3",
   "language": "python",
   "name": "python3"
  },
  "language_info": {
   "codemirror_mode": {
    "name": "ipython",
    "version": 3
   },
   "file_extension": ".py",
   "mimetype": "text/x-python",
   "name": "python",
   "nbconvert_exporter": "python",
   "pygments_lexer": "ipython3",
   "version": "3.8.6"
  }
 },
 "nbformat": 4,
 "nbformat_minor": 5
}
