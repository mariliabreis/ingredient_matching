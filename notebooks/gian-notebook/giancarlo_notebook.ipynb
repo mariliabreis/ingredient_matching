{
 "cells": [
  {
   "cell_type": "code",
   "execution_count": 2,
   "id": "divided-aaron",
   "metadata": {},
   "outputs": [],
   "source": [
    "import pandas as pd"
   ]
  },
  {
   "cell_type": "code",
   "execution_count": 3,
   "id": "curious-review",
   "metadata": {},
   "outputs": [
    {
     "data": {
      "text/html": [
       "<div>\n",
       "<style scoped>\n",
       "    .dataframe tbody tr th:only-of-type {\n",
       "        vertical-align: middle;\n",
       "    }\n",
       "\n",
       "    .dataframe tbody tr th {\n",
       "        vertical-align: top;\n",
       "    }\n",
       "\n",
       "    .dataframe thead th {\n",
       "        text-align: right;\n",
       "    }\n",
       "</style>\n",
       "<table border=\"1\" class=\"dataframe\">\n",
       "  <thead>\n",
       "    <tr style=\"text-align: right;\">\n",
       "      <th></th>\n",
       "      <th>id</th>\n",
       "      <th>cuisine</th>\n",
       "      <th>ingredients</th>\n",
       "    </tr>\n",
       "  </thead>\n",
       "  <tbody>\n",
       "    <tr>\n",
       "      <th>0</th>\n",
       "      <td>10259</td>\n",
       "      <td>greek</td>\n",
       "      <td>[romaine lettuce, black olives, grape tomatoes...</td>\n",
       "    </tr>\n",
       "    <tr>\n",
       "      <th>1</th>\n",
       "      <td>25693</td>\n",
       "      <td>southern_us</td>\n",
       "      <td>[plain flour, ground pepper, salt, tomatoes, g...</td>\n",
       "    </tr>\n",
       "    <tr>\n",
       "      <th>2</th>\n",
       "      <td>20130</td>\n",
       "      <td>filipino</td>\n",
       "      <td>[eggs, pepper, salt, mayonaise, cooking oil, g...</td>\n",
       "    </tr>\n",
       "    <tr>\n",
       "      <th>3</th>\n",
       "      <td>22213</td>\n",
       "      <td>indian</td>\n",
       "      <td>[water, vegetable oil, wheat, salt]</td>\n",
       "    </tr>\n",
       "    <tr>\n",
       "      <th>4</th>\n",
       "      <td>13162</td>\n",
       "      <td>indian</td>\n",
       "      <td>[black pepper, shallots, cornflour, cayenne pe...</td>\n",
       "    </tr>\n",
       "  </tbody>\n",
       "</table>\n",
       "</div>"
      ],
      "text/plain": [
       "      id      cuisine                                        ingredients\n",
       "0  10259        greek  [romaine lettuce, black olives, grape tomatoes...\n",
       "1  25693  southern_us  [plain flour, ground pepper, salt, tomatoes, g...\n",
       "2  20130     filipino  [eggs, pepper, salt, mayonaise, cooking oil, g...\n",
       "3  22213       indian                [water, vegetable oil, wheat, salt]\n",
       "4  13162       indian  [black pepper, shallots, cornflour, cayenne pe..."
      ]
     },
     "execution_count": 3,
     "metadata": {},
     "output_type": "execute_result"
    }
   ],
   "source": [
    "df_ingredients = pd.read_json('/Users/giancarlotissot/code/mariliabreis/ingredient_matching/raw_data/key_ingredients/train.json')\n",
    "df_ingredients.head()"
   ]
  },
  {
   "cell_type": "code",
   "execution_count": 4,
   "id": "miniature-testament",
   "metadata": {
    "scrolled": false
   },
   "outputs": [
    {
     "data": {
      "text/html": [
       "<div>\n",
       "<style scoped>\n",
       "    .dataframe tbody tr th:only-of-type {\n",
       "        vertical-align: middle;\n",
       "    }\n",
       "\n",
       "    .dataframe tbody tr th {\n",
       "        vertical-align: top;\n",
       "    }\n",
       "\n",
       "    .dataframe thead th {\n",
       "        text-align: right;\n",
       "    }\n",
       "</style>\n",
       "<table border=\"1\" class=\"dataframe\">\n",
       "  <thead>\n",
       "    <tr style=\"text-align: right;\">\n",
       "      <th></th>\n",
       "      <th>name</th>\n",
       "      <th>id</th>\n",
       "      <th>minutes</th>\n",
       "      <th>contributor_id</th>\n",
       "      <th>submitted</th>\n",
       "      <th>tags</th>\n",
       "      <th>nutrition</th>\n",
       "      <th>n_steps</th>\n",
       "      <th>steps</th>\n",
       "      <th>description</th>\n",
       "      <th>ingredients</th>\n",
       "      <th>n_ingredients</th>\n",
       "    </tr>\n",
       "  </thead>\n",
       "  <tbody>\n",
       "    <tr>\n",
       "      <th>0</th>\n",
       "      <td>arriba   baked winter squash mexican style</td>\n",
       "      <td>137739</td>\n",
       "      <td>55</td>\n",
       "      <td>47892</td>\n",
       "      <td>2005-09-16</td>\n",
       "      <td>['60-minutes-or-less', 'time-to-make', 'course...</td>\n",
       "      <td>[51.5, 0.0, 13.0, 0.0, 2.0, 0.0, 4.0]</td>\n",
       "      <td>11</td>\n",
       "      <td>['make a choice and proceed with recipe', 'dep...</td>\n",
       "      <td>autumn is my favorite time of year to cook! th...</td>\n",
       "      <td>['winter squash', 'mexican seasoning', 'mixed ...</td>\n",
       "      <td>7</td>\n",
       "    </tr>\n",
       "    <tr>\n",
       "      <th>1</th>\n",
       "      <td>a bit different  breakfast pizza</td>\n",
       "      <td>31490</td>\n",
       "      <td>30</td>\n",
       "      <td>26278</td>\n",
       "      <td>2002-06-17</td>\n",
       "      <td>['30-minutes-or-less', 'time-to-make', 'course...</td>\n",
       "      <td>[173.4, 18.0, 0.0, 17.0, 22.0, 35.0, 1.0]</td>\n",
       "      <td>9</td>\n",
       "      <td>['preheat oven to 425 degrees f', 'press dough...</td>\n",
       "      <td>this recipe calls for the crust to be prebaked...</td>\n",
       "      <td>['prepared pizza crust', 'sausage patty', 'egg...</td>\n",
       "      <td>6</td>\n",
       "    </tr>\n",
       "    <tr>\n",
       "      <th>2</th>\n",
       "      <td>all in the kitchen  chili</td>\n",
       "      <td>112140</td>\n",
       "      <td>130</td>\n",
       "      <td>196586</td>\n",
       "      <td>2005-02-25</td>\n",
       "      <td>['time-to-make', 'course', 'preparation', 'mai...</td>\n",
       "      <td>[269.8, 22.0, 32.0, 48.0, 39.0, 27.0, 5.0]</td>\n",
       "      <td>6</td>\n",
       "      <td>['brown ground beef in large pot', 'add choppe...</td>\n",
       "      <td>this modified version of 'mom's' chili was a h...</td>\n",
       "      <td>['ground beef', 'yellow onions', 'diced tomato...</td>\n",
       "      <td>13</td>\n",
       "    </tr>\n",
       "    <tr>\n",
       "      <th>3</th>\n",
       "      <td>alouette  potatoes</td>\n",
       "      <td>59389</td>\n",
       "      <td>45</td>\n",
       "      <td>68585</td>\n",
       "      <td>2003-04-14</td>\n",
       "      <td>['60-minutes-or-less', 'time-to-make', 'course...</td>\n",
       "      <td>[368.1, 17.0, 10.0, 2.0, 14.0, 8.0, 20.0]</td>\n",
       "      <td>11</td>\n",
       "      <td>['place potatoes in a large pot of lightly sal...</td>\n",
       "      <td>this is a super easy, great tasting, make ahea...</td>\n",
       "      <td>['spreadable cheese with garlic and herbs', 'n...</td>\n",
       "      <td>11</td>\n",
       "    </tr>\n",
       "    <tr>\n",
       "      <th>4</th>\n",
       "      <td>amish  tomato ketchup  for canning</td>\n",
       "      <td>44061</td>\n",
       "      <td>190</td>\n",
       "      <td>41706</td>\n",
       "      <td>2002-10-25</td>\n",
       "      <td>['weeknight', 'time-to-make', 'course', 'main-...</td>\n",
       "      <td>[352.9, 1.0, 337.0, 23.0, 3.0, 0.0, 28.0]</td>\n",
       "      <td>5</td>\n",
       "      <td>['mix all ingredients&amp; boil for 2 1 / 2 hours ...</td>\n",
       "      <td>my dh's amish mother raised him on this recipe...</td>\n",
       "      <td>['tomato juice', 'apple cider vinegar', 'sugar...</td>\n",
       "      <td>8</td>\n",
       "    </tr>\n",
       "  </tbody>\n",
       "</table>\n",
       "</div>"
      ],
      "text/plain": [
       "                                         name      id  minutes  \\\n",
       "0  arriba   baked winter squash mexican style  137739       55   \n",
       "1            a bit different  breakfast pizza   31490       30   \n",
       "2                   all in the kitchen  chili  112140      130   \n",
       "3                          alouette  potatoes   59389       45   \n",
       "4          amish  tomato ketchup  for canning   44061      190   \n",
       "\n",
       "   contributor_id   submitted  \\\n",
       "0           47892  2005-09-16   \n",
       "1           26278  2002-06-17   \n",
       "2          196586  2005-02-25   \n",
       "3           68585  2003-04-14   \n",
       "4           41706  2002-10-25   \n",
       "\n",
       "                                                tags  \\\n",
       "0  ['60-minutes-or-less', 'time-to-make', 'course...   \n",
       "1  ['30-minutes-or-less', 'time-to-make', 'course...   \n",
       "2  ['time-to-make', 'course', 'preparation', 'mai...   \n",
       "3  ['60-minutes-or-less', 'time-to-make', 'course...   \n",
       "4  ['weeknight', 'time-to-make', 'course', 'main-...   \n",
       "\n",
       "                                    nutrition  n_steps  \\\n",
       "0       [51.5, 0.0, 13.0, 0.0, 2.0, 0.0, 4.0]       11   \n",
       "1   [173.4, 18.0, 0.0, 17.0, 22.0, 35.0, 1.0]        9   \n",
       "2  [269.8, 22.0, 32.0, 48.0, 39.0, 27.0, 5.0]        6   \n",
       "3   [368.1, 17.0, 10.0, 2.0, 14.0, 8.0, 20.0]       11   \n",
       "4   [352.9, 1.0, 337.0, 23.0, 3.0, 0.0, 28.0]        5   \n",
       "\n",
       "                                               steps  \\\n",
       "0  ['make a choice and proceed with recipe', 'dep...   \n",
       "1  ['preheat oven to 425 degrees f', 'press dough...   \n",
       "2  ['brown ground beef in large pot', 'add choppe...   \n",
       "3  ['place potatoes in a large pot of lightly sal...   \n",
       "4  ['mix all ingredients& boil for 2 1 / 2 hours ...   \n",
       "\n",
       "                                         description  \\\n",
       "0  autumn is my favorite time of year to cook! th...   \n",
       "1  this recipe calls for the crust to be prebaked...   \n",
       "2  this modified version of 'mom's' chili was a h...   \n",
       "3  this is a super easy, great tasting, make ahea...   \n",
       "4  my dh's amish mother raised him on this recipe...   \n",
       "\n",
       "                                         ingredients  n_ingredients  \n",
       "0  ['winter squash', 'mexican seasoning', 'mixed ...              7  \n",
       "1  ['prepared pizza crust', 'sausage patty', 'egg...              6  \n",
       "2  ['ground beef', 'yellow onions', 'diced tomato...             13  \n",
       "3  ['spreadable cheese with garlic and herbs', 'n...             11  \n",
       "4  ['tomato juice', 'apple cider vinegar', 'sugar...              8  "
      ]
     },
     "execution_count": 4,
     "metadata": {},
     "output_type": "execute_result"
    }
   ],
   "source": [
    "df_recipes_RAW = pd.read_csv('/Users/giancarlotissot/code/mariliabreis/ingredient_matching/raw_data/recipe_list/RAW_recipes.csv')\n",
    "df_recipes_RAW.head()"
   ]
  },
  {
   "cell_type": "code",
   "execution_count": 5,
   "id": "mechanical-cloud",
   "metadata": {},
   "outputs": [
    {
     "data": {
      "text/html": [
       "<div>\n",
       "<style scoped>\n",
       "    .dataframe tbody tr th:only-of-type {\n",
       "        vertical-align: middle;\n",
       "    }\n",
       "\n",
       "    .dataframe tbody tr th {\n",
       "        vertical-align: top;\n",
       "    }\n",
       "\n",
       "    .dataframe thead th {\n",
       "        text-align: right;\n",
       "    }\n",
       "</style>\n",
       "<table border=\"1\" class=\"dataframe\">\n",
       "  <thead>\n",
       "    <tr style=\"text-align: right;\">\n",
       "      <th></th>\n",
       "      <th>user_id</th>\n",
       "      <th>recipe_id</th>\n",
       "      <th>date</th>\n",
       "      <th>rating</th>\n",
       "      <th>review</th>\n",
       "    </tr>\n",
       "  </thead>\n",
       "  <tbody>\n",
       "    <tr>\n",
       "      <th>0</th>\n",
       "      <td>38094</td>\n",
       "      <td>40893</td>\n",
       "      <td>2003-02-17</td>\n",
       "      <td>4</td>\n",
       "      <td>Great with a salad. Cooked on top of stove for...</td>\n",
       "    </tr>\n",
       "    <tr>\n",
       "      <th>1</th>\n",
       "      <td>1293707</td>\n",
       "      <td>40893</td>\n",
       "      <td>2011-12-21</td>\n",
       "      <td>5</td>\n",
       "      <td>So simple, so delicious! Great for chilly fall...</td>\n",
       "    </tr>\n",
       "    <tr>\n",
       "      <th>2</th>\n",
       "      <td>8937</td>\n",
       "      <td>44394</td>\n",
       "      <td>2002-12-01</td>\n",
       "      <td>4</td>\n",
       "      <td>This worked very well and is EASY.  I used not...</td>\n",
       "    </tr>\n",
       "    <tr>\n",
       "      <th>3</th>\n",
       "      <td>126440</td>\n",
       "      <td>85009</td>\n",
       "      <td>2010-02-27</td>\n",
       "      <td>5</td>\n",
       "      <td>I made the Mexican topping and took it to bunk...</td>\n",
       "    </tr>\n",
       "    <tr>\n",
       "      <th>4</th>\n",
       "      <td>57222</td>\n",
       "      <td>85009</td>\n",
       "      <td>2011-10-01</td>\n",
       "      <td>5</td>\n",
       "      <td>Made the cheddar bacon topping, adding a sprin...</td>\n",
       "    </tr>\n",
       "  </tbody>\n",
       "</table>\n",
       "</div>"
      ],
      "text/plain": [
       "   user_id  recipe_id        date  rating  \\\n",
       "0    38094      40893  2003-02-17       4   \n",
       "1  1293707      40893  2011-12-21       5   \n",
       "2     8937      44394  2002-12-01       4   \n",
       "3   126440      85009  2010-02-27       5   \n",
       "4    57222      85009  2011-10-01       5   \n",
       "\n",
       "                                              review  \n",
       "0  Great with a salad. Cooked on top of stove for...  \n",
       "1  So simple, so delicious! Great for chilly fall...  \n",
       "2  This worked very well and is EASY.  I used not...  \n",
       "3  I made the Mexican topping and took it to bunk...  \n",
       "4  Made the cheddar bacon topping, adding a sprin...  "
      ]
     },
     "execution_count": 5,
     "metadata": {},
     "output_type": "execute_result"
    }
   ],
   "source": [
    "df_interactions_RAW = pd.read_csv('/Users/giancarlotissot/code/mariliabreis/ingredient_matching/raw_data/recipe_list/RAW_interactions.csv')\n",
    "df_interactions_RAW.head()"
   ]
  },
  {
   "cell_type": "code",
   "execution_count": 28,
   "id": "capable-vitamin",
   "metadata": {},
   "outputs": [
    {
     "data": {
      "text/html": [
       "<div>\n",
       "<style scoped>\n",
       "    .dataframe tbody tr th:only-of-type {\n",
       "        vertical-align: middle;\n",
       "    }\n",
       "\n",
       "    .dataframe tbody tr th {\n",
       "        vertical-align: top;\n",
       "    }\n",
       "\n",
       "    .dataframe thead th {\n",
       "        text-align: right;\n",
       "    }\n",
       "</style>\n",
       "<table border=\"1\" class=\"dataframe\">\n",
       "  <thead>\n",
       "    <tr style=\"text-align: right;\">\n",
       "      <th></th>\n",
       "      <th>recipe_id</th>\n",
       "      <th>rating</th>\n",
       "    </tr>\n",
       "  </thead>\n",
       "  <tbody>\n",
       "    <tr>\n",
       "      <th>0</th>\n",
       "      <td>40893</td>\n",
       "      <td>4</td>\n",
       "    </tr>\n",
       "    <tr>\n",
       "      <th>1</th>\n",
       "      <td>40893</td>\n",
       "      <td>5</td>\n",
       "    </tr>\n",
       "    <tr>\n",
       "      <th>2</th>\n",
       "      <td>44394</td>\n",
       "      <td>4</td>\n",
       "    </tr>\n",
       "    <tr>\n",
       "      <th>3</th>\n",
       "      <td>85009</td>\n",
       "      <td>5</td>\n",
       "    </tr>\n",
       "    <tr>\n",
       "      <th>4</th>\n",
       "      <td>85009</td>\n",
       "      <td>5</td>\n",
       "    </tr>\n",
       "    <tr>\n",
       "      <th>...</th>\n",
       "      <td>...</td>\n",
       "      <td>...</td>\n",
       "    </tr>\n",
       "    <tr>\n",
       "      <th>1132362</th>\n",
       "      <td>72730</td>\n",
       "      <td>0</td>\n",
       "    </tr>\n",
       "    <tr>\n",
       "      <th>1132363</th>\n",
       "      <td>386618</td>\n",
       "      <td>5</td>\n",
       "    </tr>\n",
       "    <tr>\n",
       "      <th>1132364</th>\n",
       "      <td>78003</td>\n",
       "      <td>5</td>\n",
       "    </tr>\n",
       "    <tr>\n",
       "      <th>1132365</th>\n",
       "      <td>78003</td>\n",
       "      <td>4</td>\n",
       "    </tr>\n",
       "    <tr>\n",
       "      <th>1132366</th>\n",
       "      <td>78003</td>\n",
       "      <td>5</td>\n",
       "    </tr>\n",
       "  </tbody>\n",
       "</table>\n",
       "<p>1132367 rows × 2 columns</p>\n",
       "</div>"
      ],
      "text/plain": [
       "         recipe_id  rating\n",
       "0            40893       4\n",
       "1            40893       5\n",
       "2            44394       4\n",
       "3            85009       5\n",
       "4            85009       5\n",
       "...            ...     ...\n",
       "1132362      72730       0\n",
       "1132363     386618       5\n",
       "1132364      78003       5\n",
       "1132365      78003       4\n",
       "1132366      78003       5\n",
       "\n",
       "[1132367 rows x 2 columns]"
      ]
     },
     "execution_count": 28,
     "metadata": {},
     "output_type": "execute_result"
    }
   ],
   "source": [
    "recipe_df = df_interactions_RAW[['recipe_id','rating']]\n",
    "recipe_df"
   ]
  },
  {
   "cell_type": "code",
   "execution_count": 29,
   "id": "foster-nylon",
   "metadata": {},
   "outputs": [],
   "source": [
    "rating_df = recipe_df.groupby(by='recipe_id').mean().head()"
   ]
  },
  {
   "cell_type": "code",
   "execution_count": 30,
   "id": "charged-gospel",
   "metadata": {},
   "outputs": [],
   "source": [
    "more_info = df_recipes_RAW[['id','n_ingredients','minutes','n_steps']].set_index('id')"
   ]
  },
  {
   "cell_type": "code",
   "execution_count": 31,
   "id": "described-communications",
   "metadata": {},
   "outputs": [
    {
     "data": {
      "text/html": [
       "<div>\n",
       "<style scoped>\n",
       "    .dataframe tbody tr th:only-of-type {\n",
       "        vertical-align: middle;\n",
       "    }\n",
       "\n",
       "    .dataframe tbody tr th {\n",
       "        vertical-align: top;\n",
       "    }\n",
       "\n",
       "    .dataframe thead th {\n",
       "        text-align: right;\n",
       "    }\n",
       "</style>\n",
       "<table border=\"1\" class=\"dataframe\">\n",
       "  <thead>\n",
       "    <tr style=\"text-align: right;\">\n",
       "      <th></th>\n",
       "      <th>rating</th>\n",
       "      <th>n_ingredients</th>\n",
       "      <th>minutes</th>\n",
       "      <th>n_steps</th>\n",
       "    </tr>\n",
       "    <tr>\n",
       "      <th>recipe_id</th>\n",
       "      <th></th>\n",
       "      <th></th>\n",
       "      <th></th>\n",
       "      <th></th>\n",
       "    </tr>\n",
       "  </thead>\n",
       "  <tbody>\n",
       "    <tr>\n",
       "      <th>38</th>\n",
       "      <td>4.250000</td>\n",
       "      <td>4</td>\n",
       "      <td>1485</td>\n",
       "      <td>13</td>\n",
       "    </tr>\n",
       "    <tr>\n",
       "      <th>39</th>\n",
       "      <td>3.000000</td>\n",
       "      <td>26</td>\n",
       "      <td>265</td>\n",
       "      <td>17</td>\n",
       "    </tr>\n",
       "    <tr>\n",
       "      <th>40</th>\n",
       "      <td>4.333333</td>\n",
       "      <td>6</td>\n",
       "      <td>35</td>\n",
       "      <td>8</td>\n",
       "    </tr>\n",
       "    <tr>\n",
       "      <th>41</th>\n",
       "      <td>4.500000</td>\n",
       "      <td>15</td>\n",
       "      <td>1460</td>\n",
       "      <td>18</td>\n",
       "    </tr>\n",
       "    <tr>\n",
       "      <th>43</th>\n",
       "      <td>1.000000</td>\n",
       "      <td>15</td>\n",
       "      <td>140</td>\n",
       "      <td>35</td>\n",
       "    </tr>\n",
       "  </tbody>\n",
       "</table>\n",
       "</div>"
      ],
      "text/plain": [
       "             rating  n_ingredients  minutes  n_steps\n",
       "recipe_id                                           \n",
       "38         4.250000              4     1485       13\n",
       "39         3.000000             26      265       17\n",
       "40         4.333333              6       35        8\n",
       "41         4.500000             15     1460       18\n",
       "43         1.000000             15      140       35"
      ]
     },
     "execution_count": 31,
     "metadata": {},
     "output_type": "execute_result"
    }
   ],
   "source": [
    "pd.merge(rating_df,more_info,how='left',left_index=True, right_index=True)"
   ]
  },
  {
   "cell_type": "code",
   "execution_count": null,
   "id": "north-receipt",
   "metadata": {},
   "outputs": [],
   "source": []
  },
  {
   "cell_type": "code",
   "execution_count": null,
   "id": "indonesian-capital",
   "metadata": {},
   "outputs": [],
   "source": []
  },
  {
   "cell_type": "code",
   "execution_count": 24,
   "id": "several-afghanistan",
   "metadata": {},
   "outputs": [
    {
     "data": {
      "text/plain": [
       "<AxesSubplot:xlabel='rating', ylabel='Count'>"
      ]
     },
     "execution_count": 24,
     "metadata": {},
     "output_type": "execute_result"
    },
    {
     "data": {
      "image/png": "[encoded data removed]",
      "text/plain": [
       "<Figure size 432x288 with 1 Axes>"
      ]
     },
     "metadata": {
      "needs_background": "light"
     },
     "output_type": "display_data"
    }
   ],
   "source": [
    "import seaborn as sns\n",
    "df_interactions_RAW['rating'].unique()\n",
    "\n",
    "sns.histplot(df_interactions_RAW['rating'])"
   ]
  },
  {
   "cell_type": "code",
   "execution_count": 13,
   "id": "south-compression",
   "metadata": {},
   "outputs": [],
   "source": [
    "tags = df_recipes_RAW[['tags','description']]"
   ]
  },
  {
   "cell_type": "code",
   "execution_count": 21,
   "id": "polyphonic-maximum",
   "metadata": {},
   "outputs": [
    {
     "data": {
      "text/plain": [
       "\"['60-minutes-or-less', 'time-to-make', 'course', 'main-ingredient', 'cuisine', 'preparation', 'occasion', 'north-american', 'side-dishes', 'vegetables', 'mexican', 'easy', 'fall', 'holiday-event', 'vegetarian', 'winter', 'dietary', 'christmas', 'seasonal', 'squash']\""
      ]
     },
     "execution_count": 21,
     "metadata": {},
     "output_type": "execute_result"
    }
   ],
   "source": [
    "tags.head()\n",
    "tags.loc[0,'tags']"
   ]
  },
  {
   "cell_type": "code",
   "execution_count": 23,
   "id": "alien-stanford",
   "metadata": {},
   "outputs": [
    {
     "data": {
      "text/plain": [
       "'this recipe calls for the crust to be prebaked a bit before adding ingredients. feel free to change sausage to ham or bacon. this warms well in the microwave for those late risers.'"
      ]
     },
     "execution_count": 23,
     "metadata": {},
     "output_type": "execute_result"
    }
   ],
   "source": [
    "tags.loc[1,'description']"
   ]
  },
  {
   "cell_type": "code",
   "execution_count": null,
   "id": "realistic-magic",
   "metadata": {},
   "outputs": [],
   "source": []
  },
  {
   "cell_type": "code",
   "execution_count": null,
   "id": "loving-smith",
   "metadata": {},
   "outputs": [],
   "source": []
  },
  {
   "cell_type": "code",
   "execution_count": null,
   "id": "attempted-stretch",
   "metadata": {},
   "outputs": [],
   "source": []
  },
  {
   "cell_type": "code",
   "execution_count": null,
   "id": "corrected-radius",
   "metadata": {},
   "outputs": [],
   "source": [
    "df_recipes = pd.read_csv('/Users/giancarlotissot/code/mariliabreis/ingredient_matching/raw_data/recipe_list/PP_recipes.csv')\n",
    "df_recipes.head()"
   ]
  },
  {
   "cell_type": "code",
   "execution_count": 7,
   "id": "foreign-award",
   "metadata": {},
   "outputs": [
    {
     "data": {
      "text/html": [
       "<div>\n",
       "<style scoped>\n",
       "    .dataframe tbody tr th:only-of-type {\n",
       "        vertical-align: middle;\n",
       "    }\n",
       "\n",
       "    .dataframe tbody tr th {\n",
       "        vertical-align: top;\n",
       "    }\n",
       "\n",
       "    .dataframe thead th {\n",
       "        text-align: right;\n",
       "    }\n",
       "</style>\n",
       "<table border=\"1\" class=\"dataframe\">\n",
       "  <thead>\n",
       "    <tr style=\"text-align: right;\">\n",
       "      <th></th>\n",
       "      <th>raw_ingr</th>\n",
       "      <th>raw_words</th>\n",
       "      <th>processed</th>\n",
       "      <th>len_proc</th>\n",
       "      <th>replaced</th>\n",
       "      <th>count</th>\n",
       "      <th>id</th>\n",
       "    </tr>\n",
       "  </thead>\n",
       "  <tbody>\n",
       "    <tr>\n",
       "      <th>0</th>\n",
       "      <td>medium heads bibb or red leaf lettuce, washed,...</td>\n",
       "      <td>13</td>\n",
       "      <td>medium heads bibb or red leaf lettuce, washed,...</td>\n",
       "      <td>73</td>\n",
       "      <td>lettuce</td>\n",
       "      <td>4507</td>\n",
       "      <td>4308</td>\n",
       "    </tr>\n",
       "    <tr>\n",
       "      <th>1</th>\n",
       "      <td>mixed baby lettuces and spring greens</td>\n",
       "      <td>6</td>\n",
       "      <td>mixed baby lettuces and spring green</td>\n",
       "      <td>36</td>\n",
       "      <td>lettuce</td>\n",
       "      <td>4507</td>\n",
       "      <td>4308</td>\n",
       "    </tr>\n",
       "    <tr>\n",
       "      <th>2</th>\n",
       "      <td>romaine lettuce leaf</td>\n",
       "      <td>3</td>\n",
       "      <td>romaine lettuce leaf</td>\n",
       "      <td>20</td>\n",
       "      <td>lettuce</td>\n",
       "      <td>4507</td>\n",
       "      <td>4308</td>\n",
       "    </tr>\n",
       "    <tr>\n",
       "      <th>3</th>\n",
       "      <td>iceberg lettuce leaf</td>\n",
       "      <td>3</td>\n",
       "      <td>iceberg lettuce leaf</td>\n",
       "      <td>20</td>\n",
       "      <td>lettuce</td>\n",
       "      <td>4507</td>\n",
       "      <td>4308</td>\n",
       "    </tr>\n",
       "    <tr>\n",
       "      <th>4</th>\n",
       "      <td>red romaine lettuce</td>\n",
       "      <td>3</td>\n",
       "      <td>red romaine lettuce</td>\n",
       "      <td>19</td>\n",
       "      <td>lettuce</td>\n",
       "      <td>4507</td>\n",
       "      <td>4308</td>\n",
       "    </tr>\n",
       "    <tr>\n",
       "      <th>...</th>\n",
       "      <td>...</td>\n",
       "      <td>...</td>\n",
       "      <td>...</td>\n",
       "      <td>...</td>\n",
       "      <td>...</td>\n",
       "      <td>...</td>\n",
       "      <td>...</td>\n",
       "    </tr>\n",
       "    <tr>\n",
       "      <th>11654</th>\n",
       "      <td>soybeans</td>\n",
       "      <td>1</td>\n",
       "      <td>soybean</td>\n",
       "      <td>7</td>\n",
       "      <td>soybean</td>\n",
       "      <td>31</td>\n",
       "      <td>6702</td>\n",
       "    </tr>\n",
       "    <tr>\n",
       "      <th>11655</th>\n",
       "      <td>goose</td>\n",
       "      <td>1</td>\n",
       "      <td>goose</td>\n",
       "      <td>5</td>\n",
       "      <td>goose</td>\n",
       "      <td>8</td>\n",
       "      <td>3318</td>\n",
       "    </tr>\n",
       "    <tr>\n",
       "      <th>11656</th>\n",
       "      <td>ajwain</td>\n",
       "      <td>1</td>\n",
       "      <td>ajwain</td>\n",
       "      <td>6</td>\n",
       "      <td>ajwain</td>\n",
       "      <td>13</td>\n",
       "      <td>47</td>\n",
       "    </tr>\n",
       "    <tr>\n",
       "      <th>11657</th>\n",
       "      <td>brinjals</td>\n",
       "      <td>1</td>\n",
       "      <td>brinjal</td>\n",
       "      <td>7</td>\n",
       "      <td>brinjal</td>\n",
       "      <td>2</td>\n",
       "      <td>750</td>\n",
       "    </tr>\n",
       "    <tr>\n",
       "      <th>11658</th>\n",
       "      <td>khoya</td>\n",
       "      <td>1</td>\n",
       "      <td>khoya</td>\n",
       "      <td>5</td>\n",
       "      <td>khoya</td>\n",
       "      <td>6</td>\n",
       "      <td>4061</td>\n",
       "    </tr>\n",
       "  </tbody>\n",
       "</table>\n",
       "<p>11659 rows × 7 columns</p>\n",
       "</div>"
      ],
      "text/plain": [
       "                                                raw_ingr  raw_words  \\\n",
       "0      medium heads bibb or red leaf lettuce, washed,...         13   \n",
       "1                  mixed baby lettuces and spring greens          6   \n",
       "2                                   romaine lettuce leaf          3   \n",
       "3                                   iceberg lettuce leaf          3   \n",
       "4                                    red romaine lettuce          3   \n",
       "...                                                  ...        ...   \n",
       "11654                                           soybeans          1   \n",
       "11655                                              goose          1   \n",
       "11656                                             ajwain          1   \n",
       "11657                                           brinjals          1   \n",
       "11658                                              khoya          1   \n",
       "\n",
       "                                               processed  len_proc replaced  \\\n",
       "0      medium heads bibb or red leaf lettuce, washed,...        73  lettuce   \n",
       "1                   mixed baby lettuces and spring green        36  lettuce   \n",
       "2                                   romaine lettuce leaf        20  lettuce   \n",
       "3                                   iceberg lettuce leaf        20  lettuce   \n",
       "4                                    red romaine lettuce        19  lettuce   \n",
       "...                                                  ...       ...      ...   \n",
       "11654                                            soybean         7  soybean   \n",
       "11655                                              goose         5    goose   \n",
       "11656                                             ajwain         6   ajwain   \n",
       "11657                                            brinjal         7  brinjal   \n",
       "11658                                              khoya         5    khoya   \n",
       "\n",
       "       count    id  \n",
       "0       4507  4308  \n",
       "1       4507  4308  \n",
       "2       4507  4308  \n",
       "3       4507  4308  \n",
       "4       4507  4308  \n",
       "...      ...   ...  \n",
       "11654     31  6702  \n",
       "11655      8  3318  \n",
       "11656     13    47  \n",
       "11657      2   750  \n",
       "11658      6  4061  \n",
       "\n",
       "[11659 rows x 7 columns]"
      ]
     },
     "execution_count": 7,
     "metadata": {},
     "output_type": "execute_result"
    }
   ],
   "source": [
    "df_pickle = pd.read_pickle('/Users/giancarlotissot/code/mariliabreis/ingredient_matching/raw_data/recipe_list/ingr_map.pkl')\n",
    "df_pickle"
   ]
  },
  {
   "cell_type": "code",
   "execution_count": null,
   "id": "secure-fence",
   "metadata": {},
   "outputs": [],
   "source": [
    "ingredients_clean = df_pickle[['id','replaced','count','raw_ingr']]\n",
    "ingredients_clean.head()"
   ]
  },
  {
   "cell_type": "code",
   "execution_count": null,
   "id": "recent-associate",
   "metadata": {},
   "outputs": [],
   "source": [
    "final_df = pd.read_csv('/Users/giancarlotissot/code/mariliabreis/ingredient_matching/raw_data/final_df.csv')\n",
    "final_df.head()"
   ]
  },
  {
   "cell_type": "code",
   "execution_count": null,
   "id": "collective-humanity",
   "metadata": {},
   "outputs": [],
   "source": [
    "def get_id(ingredient_str):\n",
    "    ingredient_id = ingredients_clean[ingredients_clean['raw_ingr'] ==ingredient_str]\n",
    "    ingredient_id.reset_index(inplace=True)\n",
    "    return ingredient_id.loc[0,'id']"
   ]
  },
  {
   "cell_type": "code",
   "execution_count": null,
   "id": "closed-jumping",
   "metadata": {},
   "outputs": [],
   "source": [
    "result = get_id('romaine lettuce leaf')\n",
    "result"
   ]
  },
  {
   "cell_type": "code",
   "execution_count": null,
   "id": "prescription-marsh",
   "metadata": {},
   "outputs": [],
   "source": [
    "def find_match(ingredient_id):\n",
    "    final_df\n",
    "    \n",
    "def find_total(ingredient):\n",
    "    \n",
    "    "
   ]
  },
  {
   "cell_type": "code",
   "execution_count": null,
   "id": "shared-photography",
   "metadata": {},
   "outputs": [],
   "source": [
    "# recipe_clean = df_recipes[['id','ingredient_ids']]\n",
    "# recipe_clean.head()\n",
    "# recipe_clean.merge()"
   ]
  },
  {
   "cell_type": "code",
   "execution_count": null,
   "id": "binary-lesbian",
   "metadata": {},
   "outputs": [],
   "source": [
    "df_recipes.info()"
   ]
  },
  {
   "cell_type": "code",
   "execution_count": null,
   "id": "incident-citizen",
   "metadata": {},
   "outputs": [],
   "source": [
    "id = 59389\n",
    "test = df_recipes[df_recipes['id'] == id]\n",
    "test['ingredient_ids']"
   ]
  },
  {
   "cell_type": "code",
   "execution_count": null,
   "id": "accredited-loading",
   "metadata": {},
   "outputs": [],
   "source": [
    "id = 1170\n",
    "test = df_pickle[df_pickle['id'] == id]\n",
    "test"
   ]
  },
  {
   "cell_type": "code",
   "execution_count": null,
   "id": "greater-tourist",
   "metadata": {},
   "outputs": [],
   "source": [
    "batata = df_recipes[df_recipes['id'] == id]\n",
    "batata\n",
    "batata_raw = df_recipes_RAW[df_recipes_RAW['id'] == id]\n",
    "batata_raw"
   ]
  },
  {
   "cell_type": "code",
   "execution_count": null,
   "id": "rental-seminar",
   "metadata": {},
   "outputs": [],
   "source": [
    "batata_strlist = batata.ingredient_tokens.to_list()"
   ]
  },
  {
   "cell_type": "code",
   "execution_count": null,
   "id": "modular-orange",
   "metadata": {},
   "outputs": [],
   "source": [
    "# ingredients_array = []\n",
    "# ast.literal_eval(batata_strlist[0])\n",
    "# for lista in ast.literal_eval(batata_strlist[0]):\n",
    "#     print(lista)\n",
    "#     ingredients_array += lista\n",
    "\n",
    "# print(ingredients_array)"
   ]
  },
  {
   "cell_type": "code",
   "execution_count": null,
   "id": "sound-silver",
   "metadata": {},
   "outputs": [],
   "source": [
    "print(batata_raw.loc[3,'ingredients'])"
   ]
  },
  {
   "cell_type": "code",
   "execution_count": null,
   "id": "backed-fitting",
   "metadata": {
    "scrolled": true
   },
   "outputs": [],
   "source": [
    "print(batata_raw.loc[3,'steps'])"
   ]
  },
  {
   "cell_type": "code",
   "execution_count": null,
   "id": "inside-resolution",
   "metadata": {},
   "outputs": [],
   "source": [
    "df_recipes_RAW[['ingredients']]"
   ]
  },
  {
   "cell_type": "code",
   "execution_count": null,
   "id": "undefined-guatemala",
   "metadata": {},
   "outputs": [],
   "source": [
    "from sklearn.feature_extraction.text import CountVectorizer\n",
    "\n",
    "vectorizer = CountVectorizer()\n",
    "\n",
    "X = vectorizer.fit_transform(texts)\n",
    "\n",
    "X.toarray()"
   ]
  }
 ],
 "metadata": {
  "kernelspec": {
   "display_name": "Python 3",
   "language": "python",
   "name": "python3"
  },
  "language_info": {
   "codemirror_mode": {
    "name": "ipython",
    "version": 3
   },
   "file_extension": ".py",
   "mimetype": "text/x-python",
   "name": "python",
   "nbconvert_exporter": "python",
   "pygments_lexer": "ipython3",
   "version": "3.8.6"
  }
 },
 "nbformat": 4,
 "nbformat_minor": 5
}
